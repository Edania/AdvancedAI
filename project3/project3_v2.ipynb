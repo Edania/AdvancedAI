{
 "cells": [
  {
   "cell_type": "code",
   "execution_count": 85,
   "id": "f946a369-11e7-4364-9b4e-db860578ecc4",
   "metadata": {},
   "outputs": [],
   "source": [
    "#from board import experiment\n",
    "import numpy as np\n",
    "from scipy.stats import skew, mode, skewnorm, norm\n",
    "from sklearn.neural_network import MLPRegressor\n",
    "from sklearn.preprocessing import StandardScaler\n",
    "from tqdm import tqdm\n",
    "from tqdm.notebook import tqdm\n",
    "import matplotlib.pyplot as plt\n",
    "import seaborn as sns\n",
    "import numpy as np"
   ]
  },
  {
   "cell_type": "code",
   "execution_count": 2,
   "id": "e05bde69-e58e-44d3-a42c-a38aebc431e2",
   "metadata": {},
   "outputs": [],
   "source": [
    "#n_data = 1000 # Number of times to run the experiment\n",
    "\n",
    "#data = np.zeros((n_data, 32))\n",
    "#for i in range(0, n_data):\n",
    "#    print(f\"{i+1}/{n_data}\\r\", end=\"\")\n",
    "#    data[i,:] = experiment()\n",
    "\n",
    "#np.save(\"experiment_data.npy\", data)"
   ]
  },
  {
   "cell_type": "code",
   "execution_count": 3,
   "id": "aca53cde-a97e-47ec-aacc-21fae976d213",
   "metadata": {},
   "outputs": [],
   "source": [
    "# Loads data from experiment_data.npy file\n",
    "# Contains data for 1000 experiments\n",
    "# If we need more data I can only do it on the computers at Chalmers\n",
    "experiment_data = np.load(\"experiment_data.npy\")\n",
    "n_experiment = experiment_data.shape[0]\n",
    "\n",
    "# Dummy experiment function that reads pregenerated data\n",
    "i_experiment = 0\n",
    "def experiment():\n",
    "    global i_experiment\n",
    "    result = experiment_data[i_experiment,:]\n",
    "    i_experiment = i_experiment+1\n",
    "    if i_experiment >= n_experiment: \n",
    "        i_experiment = 0\n",
    "        print(\"Warning: reusing old experiments\")\n",
    "    return result"
   ]
  },
  {
   "cell_type": "code",
   "execution_count": 4,
   "id": "432d9d48",
   "metadata": {},
   "outputs": [],
   "source": [
    "# Simulate the experiment with known s and alpha\n",
    "def simulate_exp(alpha, s, num_rows = 31):\n",
    "    # Simulates an experiment for given alpha and s values\n",
    "    num_beads = num_rows + 1 # Number of beads at the bottom of the Galton board\n",
    "    results = np.zeros(num_beads)\n",
    "    \n",
    "    for _ in range(1000):  # Number of balls\n",
    "        M = 0  # Initial memory factor\n",
    "        pos = (num_rows) / 2  # Starting position\n",
    "        \n",
    "        # Iterate over each row of pegs\n",
    "        for ix in range(num_rows):\n",
    "            # Calculate the probability of falling right\n",
    "            P_right = 0.5 + (alpha * M + s)\n",
    "\n",
    "            # Random decision for the bead's direction\n",
    "            if np.random.uniform(0, 1) < P_right:\n",
    "                pos += 0.5  # Move right\n",
    "                M = 0.5  # Update memory factor\n",
    "            else:\n",
    "                pos -= 0.5  # Move left\n",
    "                M = -0.5  # Update memory factor\n",
    "\n",
    "        # Determine the final position of the ball\n",
    "        pos = int(np.round(pos))\n",
    "        results[pos] += 1\n",
    "\n",
    "    return results.astype(int)"
   ]
  },
  {
   "cell_type": "code",
   "execution_count": 5,
   "id": "16636bc2-2310-4ade-bab9-58fc6602dd9b",
   "metadata": {},
   "outputs": [
    {
     "data": {
      "application/vnd.jupyter.widget-view+json": {
       "model_id": "3f540c3ed35246a98ce36bf9ca8cbdae",
       "version_major": 2,
       "version_minor": 0
      },
      "text/plain": [
       "  0%|          | 0/50 [00:00<?, ?it/s]"
      ]
     },
     "metadata": {},
     "output_type": "display_data"
    }
   ],
   "source": [
    "# Generate data with known s and alpha\n",
    "X = []\n",
    "target = []\n",
    "alphas = np.linspace(0,0.5,50)\n",
    "ses = np.linspace(-0.25,0.25,50)\n",
    "for alpha in tqdm(alphas):\n",
    "    for s in ses:\n",
    "        X.append(simulate_exp(alpha,s))\n",
    "        target.append([alpha,s])\n",
    "X = np.array(X)\n",
    "target = np.array(target)"
   ]
  },
  {
   "cell_type": "code",
   "execution_count": 6,
   "id": "4d6f2229-3f0e-4a08-8f1c-a248384a8a25",
   "metadata": {},
   "outputs": [
    {
     "name": "stdout",
     "output_type": "stream",
     "text": [
      "Training data shape: (2000, 2)\n",
      "Predicted: [0.24317787 0.23496699] True Value: [0.28571429 0.22959184]\n",
      "Predicted: [ 0.22971057 -0.11046493] True Value: [ 0.2244898  -0.10714286]\n",
      "Predicted: [ 0.20586414 -0.11232486] True Value: [ 0.21428571 -0.10714286]\n",
      "Predicted: [0.45920641 0.12885982] True Value: [0.45918367 0.12755102]\n",
      "Predicted: [0.30841313 0.13084943] True Value: [0.30612245 0.12755102]\n",
      "Predicted: [ 0.15216476 -0.06851499] True Value: [ 0.13265306 -0.06632653]\n",
      "Predicted: [0.35017231 0.07456227] True Value: [0.31632653 0.08673469]\n",
      "Predicted: [ 0.45242525 -0.23831379] True Value: [ 0.48979592 -0.20918367]\n",
      "Predicted: [0.06948711 0.22402229] True Value: [0.09183673 0.22959184]\n",
      "Predicted: [0.48846423 0.04235353] True Value: [0.5        0.05612245]\n",
      "Predicted: [ 0.12103243 -0.03101696] True Value: [ 0.09183673 -0.03571429]\n",
      "Predicted: [0.08543765 0.20494271] True Value: [0.04081633 0.21938776]\n",
      "Predicted: [ 0.18570787 -0.01644793] True Value: [ 0.18367347 -0.01530612]\n",
      "Predicted: [0.22907082 0.06365225] True Value: [0.2244898  0.06632653]\n",
      "Predicted: [ 0.14827875 -0.04592587] True Value: [ 0.13265306 -0.04591837]\n",
      "Predicted: [ 0.16776406 -0.08823657] True Value: [ 0.18367347 -0.08673469]\n",
      "Predicted: [ 0.28775047 -0.10650249] True Value: [ 0.28571429 -0.10714286]\n",
      "Predicted: [ 0.35838897 -0.1822196 ] True Value: [ 0.32653061 -0.18877551]\n",
      "Predicted: [ 0.09448241 -0.23111708] True Value: [ 0.08163265 -0.22959184]\n",
      "Predicted: [ 0.18012344 -0.22667868] True Value: [ 0.2244898  -0.21938776]\n",
      "Predicted: [ 0.42540387 -0.03664013] True Value: [ 0.41836735 -0.0255102 ]\n",
      "Predicted: [ 0.16289885 -0.06585157] True Value: [ 0.14285714 -0.05612245]\n",
      "Predicted: [ 0.36404013 -0.14843837] True Value: [ 0.40816327 -0.1377551 ]\n",
      "Predicted: [0.47625874 0.10813672] True Value: [0.48979592 0.11734694]\n",
      "Predicted: [0.03954753 0.20723357] True Value: [0.03061224 0.21938776]\n",
      "Predicted: [0.16577234 0.16580447] True Value: [0.17346939 0.16836735]\n",
      "Predicted: [ 0.26480503 -0.10269233] True Value: [ 0.25510204 -0.10714286]\n",
      "Predicted: [0.26357858 0.09179568] True Value: [0.20408163 0.09693878]\n",
      "Predicted: [ 0.22627737 -0.00136769] True Value: [0.26530612 0.00510204]\n",
      "Predicted: [ 0.09913374 -0.16653197] True Value: [ 0.10204082 -0.15816327]\n",
      "Predicted: [0.29429866 0.0189946 ] True Value: [0.28571429 0.0255102 ]\n",
      "Predicted: [0.00208326 0.1901657 ] True Value: [0.03061224 0.19897959]\n",
      "Predicted: [0.22312156 0.0491228 ] True Value: [0.23469388 0.04591837]\n",
      "Predicted: [0.40907631 0.07387576] True Value: [0.40816327 0.07653061]\n",
      "Predicted: [0.1776329  0.07375906] True Value: [0.18367347 0.07653061]\n",
      "Predicted: [ 0.2433424  -0.01041246] True Value: [ 0.2244898  -0.00510204]\n",
      "Predicted: [ 0.41827307 -0.01864488] True Value: [ 0.36734694 -0.0255102 ]\n",
      "Predicted: [ 0.22966883 -0.09327618] True Value: [ 0.2755102  -0.08673469]\n",
      "Predicted: [0.33029603 0.19628921] True Value: [0.39795918 0.17857143]\n",
      "Predicted: [ 0.21588796 -0.18402321] True Value: [ 0.25510204 -0.16836735]\n",
      "Predicted: [ 0.47381309 -0.01146393] True Value: [ 0.45918367 -0.00510204]\n",
      "Predicted: [ 0.29100295 -0.00873436] True Value: [ 0.25510204 -0.01530612]\n",
      "Predicted: [0.38213351 0.11452767] True Value: [0.3877551  0.11734694]\n",
      "Predicted: [ 0.24308608 -0.08667937] True Value: [ 0.25510204 -0.08673469]\n",
      "Predicted: [ 0.14173618 -0.02534376] True Value: [ 0.15306122 -0.0255102 ]\n",
      "Predicted: [ 0.31946783 -0.1713131 ] True Value: [ 0.32653061 -0.16836735]\n",
      "Predicted: [ 0.29871417 -0.12808109] True Value: [ 0.26530612 -0.1377551 ]\n",
      "Predicted: [0.02302093 0.09067046] True Value: [0.02040816 0.09693878]\n",
      "Predicted: [ 0.36987249 -0.20723842] True Value: [ 0.37755102 -0.19897959]\n",
      "Predicted: [0.48888016 0.23635302] True Value: [0.47959184 0.25      ]\n",
      "Predicted: [ 0.10893804 -0.04417858] True Value: [ 0.08163265 -0.04591837]\n",
      "Predicted: [ 0.35334188 -0.20026605] True Value: [ 0.35714286 -0.19897959]\n",
      "Predicted: [ 0.1091204  -0.18367927] True Value: [ 0.14285714 -0.17857143]\n",
      "Predicted: [0.0203637  0.17611882] True Value: [0.01020408 0.18877551]\n",
      "Predicted: [ 0.04480357 -0.1797816 ] True Value: [ 0.01020408 -0.18877551]\n",
      "Predicted: [ 0.05696301 -0.0689254 ] True Value: [ 0.04081633 -0.06632653]\n",
      "Predicted: [0.23599637 0.10513688] True Value: [0.20408163 0.11734694]\n",
      "Predicted: [0.24121644 0.17472448] True Value: [0.25510204 0.18877551]\n",
      "Predicted: [ 0.41560204 -0.22674579] True Value: [ 0.39795918 -0.22959184]\n",
      "Predicted: [0.30786135 0.22940752] True Value: [0.28571429 0.25      ]\n",
      "Predicted: [ 0.47989669 -0.16441368] True Value: [ 0.47959184 -0.15816327]\n",
      "Predicted: [ 0.32262407 -0.09786708] True Value: [ 0.29591837 -0.09693878]\n",
      "Predicted: [0.03921402 0.24078665] True Value: [0.05102041 0.23979592]\n",
      "Predicted: [0.4300834  0.02646804] True Value: [0.43877551 0.0255102 ]\n",
      "Predicted: [0.05799493 0.03811206] True Value: [0.03061224 0.03571429]\n",
      "Predicted: [0.27175058 0.12513295] True Value: [0.23469388 0.12755102]\n",
      "Predicted: [ 0.32528181 -0.03091617] True Value: [ 0.29591837 -0.0255102 ]\n",
      "Predicted: [0.02819107 0.13501188] True Value: [0.03061224 0.1377551 ]\n",
      "Predicted: [ 0.13221601 -0.02500778] True Value: [ 0.1122449 -0.0255102]\n",
      "Predicted: [0.06945251 0.07077889] True Value: [0.08163265 0.08673469]\n",
      "Predicted: [ 0.11220353 -0.06865478] True Value: [ 0.10204082 -0.06632653]\n",
      "Predicted: [0.44512371 0.21626495] True Value: [0.46938776 0.21938776]\n",
      "Predicted: [ 0.45333703 -0.03627343] True Value: [ 0.45918367 -0.03571429]\n",
      "Predicted: [0.17778514 0.09871006] True Value: [0.21428571 0.09693878]\n",
      "Predicted: [0.24745751 0.13471045] True Value: [0.25510204 0.1377551 ]\n",
      "Predicted: [ 0.23821978 -0.01714756] True Value: [ 0.2244898  -0.01530612]\n",
      "Predicted: [0.25918832 0.16577188] True Value: [0.26530612 0.16836735]\n",
      "Predicted: [ 0.43330561 -0.18068022] True Value: [ 0.45918367 -0.18877551]\n",
      "Predicted: [0.30526235 0.14999949] True Value: [0.29591837 0.15816327]\n",
      "Predicted: [0.01662468 0.175998  ] True Value: [0.         0.18877551]\n",
      "Predicted: [0.35919297 0.04238801] True Value: [0.37755102 0.03571429]\n",
      "Predicted: [ 0.08347928 -0.24444606] True Value: [ 0.09183673 -0.25      ]\n",
      "Predicted: [0.40648525 0.19814945] True Value: [0.40816327 0.20918367]\n",
      "Predicted: [0.00441246 0.19149945] True Value: [0.         0.19897959]\n",
      "Predicted: [0.27896425 0.0772364 ] True Value: [0.25510204 0.08673469]\n",
      "Predicted: [ 0.39779269 -0.07528385] True Value: [ 0.39795918 -0.07653061]\n",
      "Predicted: [0.41913363 0.15446697] True Value: [0.41836735 0.15816327]\n",
      "Predicted: [ 0.02369369 -0.22115871] True Value: [ 0.05102041 -0.20918367]\n",
      "Predicted: [0.3639758  0.20693107] True Value: [0.3877551  0.20918367]\n",
      "Predicted: [ 0.40702872 -0.00523593] True Value: [ 0.37755102 -0.00510204]\n",
      "Predicted: [ 0.33973933 -0.13544552] True Value: [ 0.37755102 -0.12755102]\n",
      "Predicted: [ 0.1112667  -0.10586317] True Value: [ 0.1122449  -0.10714286]\n",
      "Predicted: [ 0.04418836 -0.13453958] True Value: [ 0.04081633 -0.12755102]\n",
      "Predicted: [ 0.19825851 -0.0873233 ] True Value: [ 0.17346939 -0.08673469]\n",
      "Predicted: [0.16736501 0.17281038] True Value: [0.14285714 0.17857143]\n",
      "Predicted: [ 0.24791198 -0.24039307] True Value: [ 0.25510204 -0.23979592]\n",
      "Predicted: [0.18276996 0.22562359] True Value: [0.20408163 0.22959184]\n",
      "Predicted: [0.34933536 0.11707342] True Value: [0.34693878 0.11734694]\n",
      "Predicted: [ 0.19947116 -0.08261072] True Value: [ 0.20408163 -0.07653061]\n",
      "Predicted: [ 0.03732536 -0.04980295] True Value: [ 0.03061224 -0.04591837]\n",
      "Predicted: [0.44061146 0.20478457] True Value: [0.41836735 0.21938776]\n",
      "Predicted: [0.48330628 0.12437998] True Value: [0.5        0.12755102]\n",
      "Predicted: [ 0.43751296 -0.07641917] True Value: [ 0.44897959 -0.07653061]\n",
      "Predicted: [0.32752827 0.22817173] True Value: [0.35714286 0.22959184]\n",
      "Predicted: [0.08749027 0.19755036] True Value: [0.10204082 0.19897959]\n",
      "Predicted: [ 0.19115335 -0.04754659] True Value: [ 0.24489796 -0.03571429]\n",
      "Predicted: [ 0.09861853 -0.12366309] True Value: [ 0.09183673 -0.11734694]\n",
      "Predicted: [0.22559373 0.14158417] True Value: [0.19387755 0.1377551 ]\n",
      "Predicted: [ 0.28164825 -0.03919137] True Value: [ 0.26530612 -0.03571429]\n",
      "Predicted: [ 0.09103402 -0.23567349] True Value: [ 0.12244898 -0.22959184]\n",
      "Predicted: [0.29562011 0.11935138] True Value: [0.26530612 0.11734694]\n",
      "Predicted: [0.46297068 0.14882934] True Value: [0.46938776 0.14795918]\n",
      "Predicted: [ 0.22838667 -0.15159732] True Value: [ 0.25510204 -0.14795918]\n",
      "Predicted: [ 0.46947293 -0.10104825] True Value: [ 0.42857143 -0.10714286]\n",
      "Predicted: [ 0.09700159 -0.19543837] True Value: [ 0.16326531 -0.17857143]\n",
      "Predicted: [0.16607143 0.11473736] True Value: [0.17346939 0.11734694]\n",
      "Predicted: [0.32558888 0.07458924] True Value: [0.31632653 0.07653061]\n",
      "Predicted: [ 0.30944087 -0.11257808] True Value: [ 0.32653061 -0.10714286]\n",
      "Predicted: [0.39835905 0.12308879] True Value: [0.36734694 0.12755102]\n",
      "Predicted: [ 0.35655562 -0.01476457] True Value: [ 0.37755102 -0.01530612]\n",
      "Predicted: [0.06852465 0.06797037] True Value: [0.05102041 0.07653061]\n",
      "Predicted: [ 0.01994101 -0.15181824] True Value: [ 0.04081633 -0.14795918]\n",
      "Predicted: [ 0.01820647 -0.14546572] True Value: [ 0.02040816 -0.1377551 ]\n",
      "Predicted: [ 0.36453293 -0.04932841] True Value: [ 0.3877551  -0.04591837]\n",
      "Predicted: [ 0.40537536 -0.10378673] True Value: [ 0.43877551 -0.09693878]\n",
      "Predicted: [ 0.07367645 -0.17699661] True Value: [ 0.09183673 -0.17857143]\n",
      "Predicted: [ 0.19677488 -0.04437049] True Value: [ 0.16326531 -0.05612245]\n",
      "Predicted: [0.47188443 0.08661606] True Value: [0.43877551 0.09693878]\n",
      "Predicted: [ 0.32495967 -0.20938031] True Value: [ 0.33673469 -0.19897959]\n",
      "Predicted: [ 0.02887162 -0.22456753] True Value: [ 0.05102041 -0.22959184]\n",
      "Predicted: [ 0.03959912 -0.24069289] True Value: [ 0.05102041 -0.23979592]\n",
      "Predicted: [0.28095239 0.15380998] True Value: [0.30612245 0.14795918]\n",
      "Predicted: [0.38149716 0.04242361] True Value: [0.42857143 0.04591837]\n",
      "Predicted: [0.37238198 0.01565743] True Value: [0.3877551  0.01530612]\n",
      "Predicted: [ 0.15994943 -0.06998287] True Value: [ 0.20408163 -0.06632653]\n",
      "Predicted: [ 0.07834753 -0.02555486] True Value: [ 0.08163265 -0.0255102 ]\n",
      "Predicted: [ 2.30424447e-01 -9.55466393e-05] True Value: [0.23469388 0.00510204]\n",
      "Predicted: [ 0.12362429 -0.04437749] True Value: [ 0.12244898 -0.04591837]\n",
      "Predicted: [ 0.05079549 -0.0127949 ] True Value: [ 0.03061224 -0.01530612]\n",
      "Predicted: [0.06839728 0.1108236 ] True Value: [0.09183673 0.11734694]\n",
      "Predicted: [0.40244713 0.10070666] True Value: [0.39795918 0.10714286]\n",
      "Predicted: [0.23821604 0.05993947] True Value: [0.21428571 0.05612245]\n",
      "Predicted: [ 0.21713588 -0.07839056] True Value: [ 0.2244898  -0.07653061]\n",
      "Predicted: [ 0.25134911 -0.18735357] True Value: [ 0.2755102  -0.17857143]\n",
      "Predicted: [0.24203872 0.1459932 ] True Value: [0.20408163 0.16836735]\n",
      "Predicted: [0.19942579 0.15513072] True Value: [0.21428571 0.15816327]\n",
      "Predicted: [ 0.26380137 -0.20213043] True Value: [ 0.2755102  -0.19897959]\n",
      "Predicted: [ 0.03990569 -0.14357622] True Value: [ 0.04081633 -0.1377551 ]\n",
      "Predicted: [ 0.10226141 -0.12945795] True Value: [ 0.12244898 -0.11734694]\n",
      "Predicted: [0.4597149  0.22447067] True Value: [0.42857143 0.25      ]\n",
      "Predicted: [ 0.12305481 -0.10227857] True Value: [ 0.09183673 -0.10714286]\n",
      "Predicted: [ 0.27771262 -0.08006644] True Value: [ 0.29591837 -0.07653061]\n",
      "Predicted: [ 0.03318419 -0.23160993] True Value: [ 0.1122449  -0.20918367]\n",
      "Predicted: [ 0.17563204 -0.18295111] True Value: [ 0.18367347 -0.17857143]\n",
      "Predicted: [0.1767289  0.18848752] True Value: [0.19387755 0.18877551]\n",
      "Predicted: [ 0.40469113 -0.06628393] True Value: [ 0.39795918 -0.06632653]\n",
      "Predicted: [0.36720955 0.13566848] True Value: [0.35714286 0.1377551 ]\n",
      "Predicted: [0.34771208 0.22271138] True Value: [0.31632653 0.23979592]\n",
      "Predicted: [0.04846368 0.20342023] True Value: [0.01020408 0.21938776]\n",
      "Predicted: [ 0.43108764 -0.10362573] True Value: [ 0.39795918 -0.10714286]\n",
      "Predicted: [ 0.31284902 -0.10738692] True Value: [ 0.2755102  -0.10714286]\n",
      "Predicted: [ 0.39627751 -0.00248471] True Value: [ 0.3877551  -0.00510204]\n",
      "Predicted: [ 0.14109905 -0.13933642] True Value: [ 0.12244898 -0.1377551 ]\n",
      "Predicted: [0.07937684 0.20703114] True Value: [0.08163265 0.20918367]\n",
      "Predicted: [0.03718325 0.11679232] True Value: [0.04081633 0.12755102]\n",
      "Predicted: [ 0.48333373 -0.14144677] True Value: [ 0.46938776 -0.14795918]\n",
      "Predicted: [ 0.14341334 -0.01973154] True Value: [ 0.17346939 -0.01530612]\n",
      "Predicted: [0.46627952 0.22498755] True Value: [0.5        0.22959184]\n",
      "Predicted: [ 0.41682444 -0.21227548] True Value: [ 0.41836735 -0.20918367]\n",
      "Predicted: [ 0.34947029 -0.01377126] True Value: [ 0.33673469 -0.01530612]\n",
      "Predicted: [ 0.44156229 -0.0311    ] True Value: [ 0.42857143 -0.0255102 ]\n",
      "Predicted: [0.1401985 0.1512338] True Value: [0.16326531 0.14795918]\n",
      "Predicted: [0.12535081 0.06198094] True Value: [0.1122449  0.06632653]\n",
      "Predicted: [0.18874198 0.06751109] True Value: [0.25510204 0.06632653]\n",
      "Predicted: [0.19015293 0.03478988] True Value: [0.19387755 0.04591837]\n",
      "Predicted: [0.16502309 0.15752914] True Value: [0.15306122 0.15816327]\n",
      "Predicted: [0.16906508 0.16772379] True Value: [0.16326531 0.16836735]\n",
      "Predicted: [0.0854811  0.07142014] True Value: [0.09183673 0.07653061]\n",
      "Predicted: [ 0.37080557 -0.14963672] True Value: [ 0.3877551  -0.14795918]\n",
      "Predicted: [ 0.16832534 -0.03035645] True Value: [ 0.12244898 -0.03571429]\n",
      "Predicted: [ 0.32906564 -0.22527774] True Value: [ 0.30612245 -0.22959184]\n",
      "Predicted: [0.04166626 0.07032171] True Value: [0.06122449 0.07653061]\n",
      "Predicted: [0.07766743 0.03805099] True Value: [0.09183673 0.03571429]\n",
      "Predicted: [0.27865007 0.19353063] True Value: [0.29591837 0.19897959]\n",
      "Predicted: [ 0.02908489 -0.18910953] True Value: [ 0.10204082 -0.17857143]\n",
      "Predicted: [ 0.27982267 -0.2603798 ] True Value: [ 0.29591837 -0.25      ]\n",
      "Predicted: [ 0.48091339 -0.01213724] True Value: [ 0.48979592 -0.01530612]\n",
      "Predicted: [0.1067635  0.18757455] True Value: [0.12244898 0.18877551]\n",
      "Predicted: [0.09469755 0.05827148] True Value: [0.09183673 0.05612245]\n",
      "Predicted: [ 0.30125145 -0.2046181 ] True Value: [ 0.29591837 -0.19897959]\n",
      "Predicted: [0.45120869 0.20798399] True Value: [0.47959184 0.19897959]\n",
      "Predicted: [ 0.18346562 -0.14438863] True Value: [ 0.20408163 -0.1377551 ]\n",
      "Predicted: [ 0.18565802 -0.10747107] True Value: [ 0.15306122 -0.10714286]\n",
      "Predicted: [0.25143447 0.15201739] True Value: [0.25510204 0.14795918]\n",
      "Predicted: [ 0.27539481 -0.02559119] True Value: [ 0.24489796 -0.01530612]\n",
      "Predicted: [0.23666052 0.08886681] True Value: [0.26530612 0.08673469]\n",
      "Predicted: [ 0.12345751 -0.07782579] True Value: [ 0.12244898 -0.07653061]\n",
      "Predicted: [ 0.08054777 -0.0443081 ] True Value: [ 0.10204082 -0.03571429]\n",
      "Predicted: [0.11144854 0.06988055] True Value: [0.1122449  0.07653061]\n",
      "Predicted: [ 0.25023704 -0.16032619] True Value: [ 0.21428571 -0.16836735]\n",
      "Predicted: [ 0.27128775 -0.18978268] True Value: [ 0.28571429 -0.18877551]\n",
      "Predicted: [0.06540367 0.20696694] True Value: [0.05102041 0.21938776]\n",
      "Predicted: [0.48854972 0.17809791] True Value: [0.48979592 0.17857143]\n",
      "Predicted: [ 0.18679035 -0.1396249 ] True Value: [ 0.21428571 -0.1377551 ]\n",
      "Predicted: [ 0.16759729 -0.18158496] True Value: [ 0.17346939 -0.17857143]\n",
      "Predicted: [0.36839156 0.17006648] True Value: [0.33673469 0.17857143]\n",
      "Predicted: [ 0.07290849 -0.18783911] True Value: [ 0.08163265 -0.17857143]\n",
      "Predicted: [0.21139616 0.0363985 ] True Value: [0.21428571 0.03571429]\n",
      "Predicted: [0.20215474 0.07791881] True Value: [0.21428571 0.08673469]\n",
      "Predicted: [ 0.08160279 -0.06937394] True Value: [ 0.03061224 -0.06632653]\n",
      "Predicted: [0.41891837 0.05723022] True Value: [0.43877551 0.05612245]\n",
      "Predicted: [0.07889633 0.14427561] True Value: [0.04081633 0.14795918]\n",
      "Predicted: [ 0.4365897  -0.21917804] True Value: [ 0.46938776 -0.19897959]\n",
      "Predicted: [0.38590939 0.22637508] True Value: [0.39795918 0.22959184]\n",
      "Predicted: [ 0.42213585 -0.22958846] True Value: [ 0.3877551  -0.23979592]\n",
      "Predicted: [ 0.19395337 -0.25886602] True Value: [ 0.21428571 -0.25      ]\n",
      "Predicted: [ 0.41657876 -0.11970063] True Value: [ 0.3877551  -0.12755102]\n",
      "Predicted: [ 0.39881572 -0.07533544] True Value: [ 0.37755102 -0.07653061]\n",
      "Predicted: [0.35009009 0.22615603] True Value: [0.41836735 0.20918367]\n",
      "Predicted: [ 0.10595799 -0.03255883] True Value: [ 0.10204082 -0.0255102 ]\n",
      "Predicted: [0.34435286 0.12877654] True Value: [0.34693878 0.12755102]\n",
      "Predicted: [ 0.48522081 -0.03507776] True Value: [ 0.5       -0.0255102]\n",
      "Predicted: [0.39446569 0.21920715] True Value: [0.36734694 0.22959184]\n",
      "Predicted: [ 0.46606958 -0.07359915] True Value: [ 0.47959184 -0.06632653]\n",
      "Predicted: [0.44857034 0.2342746 ] True Value: [0.44897959 0.25      ]\n",
      "Predicted: [0.39377476 0.07837049] True Value: [0.37755102 0.08673469]\n",
      "Predicted: [ 0.30362817 -0.13142743] True Value: [ 0.30612245 -0.1377551 ]\n",
      "Predicted: [ 0.30988481 -0.15831464] True Value: [ 0.29591837 -0.15816327]\n",
      "Predicted: [0.38680074 0.13622179] True Value: [0.3877551 0.1377551]\n",
      "Predicted: [ 0.35018971 -0.01227325] True Value: [ 0.34693878 -0.01530612]\n",
      "Predicted: [0.41026773 0.006749  ] True Value: [0.40816327 0.00510204]\n",
      "Predicted: [ 0.33642229 -0.18217975] True Value: [ 0.32653061 -0.17857143]\n",
      "Predicted: [0.43126369 0.02604947] True Value: [0.39795918 0.0255102 ]\n",
      "Predicted: [ 0.06989974 -0.17254074] True Value: [ 0.10204082 -0.16836735]\n",
      "Predicted: [0.1742998 0.0716679] True Value: [0.12244898 0.07653061]\n",
      "Predicted: [ 0.20442945 -0.0996392 ] True Value: [ 0.18367347 -0.09693878]\n",
      "Predicted: [ 0.05736558 -0.1485864 ] True Value: [ 0.05102041 -0.15816327]\n",
      "Predicted: [0.28617286 0.18943309] True Value: [0.2755102  0.20918367]\n",
      "Predicted: [0.42382348 0.2108881 ] True Value: [0.45918367 0.20918367]\n",
      "Predicted: [ 0.44789387 -0.03993622] True Value: [ 0.46938776 -0.03571429]\n",
      "Predicted: [ 0.16679932 -0.22462686] True Value: [ 0.16326531 -0.22959184]\n",
      "Predicted: [0.42586718 0.08917772] True Value: [0.3877551  0.10714286]\n",
      "Predicted: [0.26633371 0.20517887] True Value: [0.23469388 0.21938776]\n",
      "Predicted: [0.3578136  0.20289352] True Value: [0.3877551  0.19897959]\n",
      "Predicted: [ 0.09203233 -0.19887955] True Value: [ 0.15306122 -0.18877551]\n",
      "Predicted: [ 0.09378372 -0.25352341] True Value: [ 0.16326531 -0.23979592]\n",
      "Predicted: [0.0517254  0.07675285] True Value: [0.04081633 0.08673469]\n",
      "Predicted: [ 0.29058134 -0.1156295 ] True Value: [ 0.30612245 -0.10714286]\n",
      "Predicted: [0.13378105 0.16045882] True Value: [0.18367347 0.15816327]\n",
      "Predicted: [0.16699969 0.24207585] True Value: [0.19387755 0.23979592]\n",
      "Predicted: [ 0.21565438 -0.23013063] True Value: [ 0.2244898  -0.22959184]\n",
      "Predicted: [ 0.30142144 -0.11167919] True Value: [ 0.29591837 -0.11734694]\n",
      "Predicted: [0.36565962 0.00928106] True Value: [0.37755102 0.01530612]\n",
      "Predicted: [ 0.26560887 -0.00563963] True Value: [0.24489796 0.00510204]\n",
      "Predicted: [ 0.05266488 -0.01023067] True Value: [ 0.06122449 -0.00510204]\n",
      "Predicted: [ 0.34015642 -0.12066913] True Value: [ 0.35714286 -0.11734694]\n",
      "Predicted: [ 0.3524499  -0.24075363] True Value: [ 0.39795918 -0.21938776]\n",
      "Predicted: [0.27007691 0.0218886 ] True Value: [0.2755102 0.0255102]\n",
      "Predicted: [ 0.00666676 -0.24318928] True Value: [ 0.02040816 -0.25      ]\n",
      "Predicted: [0.47371099 0.06316498] True Value: [0.5        0.06632653]\n",
      "Predicted: [0.28043284 0.13772887] True Value: [0.26530612 0.15816327]\n",
      "Predicted: [0.08414471 0.11611665] True Value: [0.07142857 0.12755102]\n",
      "Predicted: [ 0.41257254 -0.20621073] True Value: [ 0.39795918 -0.20918367]\n",
      "Predicted: [0.06916924 0.04633787] True Value: [0.03061224 0.04591837]\n",
      "Predicted: [0.30370352 0.19726671] True Value: [0.33673469 0.19897959]\n",
      "Predicted: [ 0.30964876 -0.12997315] True Value: [ 0.33673469 -0.12755102]\n",
      "Predicted: [ 0.27571452 -0.20654682] True Value: [ 0.26530612 -0.20918367]\n",
      "Predicted: [0.18184388 0.0174216 ] True Value: [0.18367347 0.0255102 ]\n",
      "Predicted: [0.27039946 0.05404984] True Value: [0.28571429 0.05612245]\n",
      "Predicted: [ 0.46418825 -0.06620548] True Value: [ 0.45918367 -0.06632653]\n",
      "Predicted: [0.03069748 0.15538623] True Value: [0.02040816 0.16836735]\n",
      "Predicted: [ 0.07441707 -0.06377376] True Value: [ 0.07142857 -0.06632653]\n",
      "Predicted: [0.42420046 0.2160347 ] True Value: [0.48979592 0.20918367]\n",
      "Predicted: [0.18630699 0.10596538] True Value: [0.21428571 0.10714286]\n",
      "Predicted: [ 0.09984872 -0.07681116] True Value: [ 0.07142857 -0.07653061]\n",
      "Predicted: [ 0.33764521 -0.00374956] True Value: [ 0.33673469 -0.00510204]\n",
      "Predicted: [0.16995263 0.20400676] True Value: [0.20408163 0.19897959]\n",
      "Predicted: [ 0.05972202 -0.07091091] True Value: [ 0.06122449 -0.06632653]\n",
      "Predicted: [0.34102097 0.1311072 ] True Value: [0.30612245 0.1377551 ]\n",
      "Predicted: [0.03668619 0.22391393] True Value: [0.04081633 0.22959184]\n",
      "Predicted: [ 0.08487082 -0.03157983] True Value: [ 0.06122449 -0.03571429]\n",
      "Predicted: [0.3904259  0.08283305] True Value: [0.36734694 0.08673469]\n",
      "Predicted: [0.36342939 0.14302937] True Value: [0.36734694 0.14795918]\n",
      "Predicted: [0.16445718 0.24292198] True Value: [0.19387755 0.25      ]\n",
      "Predicted: [0.16006257 0.1800611 ] True Value: [0.18367347 0.17857143]\n",
      "Predicted: [ 0.41896145 -0.02321814] True Value: [ 0.35714286 -0.0255102 ]\n",
      "Predicted: [0.02491632 0.03524879] True Value: [0.         0.04591837]\n",
      "Predicted: [0.2375163 0.2407471] True Value: [0.25510204 0.25      ]\n",
      "Predicted: [0.34933901 0.19815011] True Value: [0.39795918 0.18877551]\n",
      "Predicted: [ 0.37579282 -0.10488739] True Value: [ 0.3877551  -0.10714286]\n",
      "Predicted: [0.15385536 0.19741804] True Value: [0.13265306 0.20918367]\n",
      "Predicted: [ 0.47633592 -0.03963209] True Value: [ 0.5        -0.04591837]\n",
      "Predicted: [0.44263437 0.03118908] True Value: [0.40816327 0.03571429]\n",
      "Predicted: [ 0.3094351  -0.25732751] True Value: [ 0.32653061 -0.25      ]\n",
      "Predicted: [0.4992835  0.03383633] True Value: [0.46938776 0.04591837]\n",
      "Predicted: [0.26067001 0.06183047] True Value: [0.24489796 0.06632653]\n",
      "Predicted: [ 0.4057526  -0.02110429] True Value: [ 0.43877551 -0.01530612]\n",
      "Predicted: [ 0.3818966  -0.09931417] True Value: [ 0.3877551  -0.09693878]\n",
      "Predicted: [0.36279589 0.0445874 ] True Value: [0.34693878 0.04591837]\n",
      "Predicted: [ 0.37175727 -0.18949797] True Value: [ 0.34693878 -0.18877551]\n",
      "Predicted: [ 0.33712936 -0.22639364] True Value: [ 0.34693878 -0.21938776]\n",
      "Predicted: [ 0.07535839 -0.22333826] True Value: [ 0.15306122 -0.19897959]\n",
      "Predicted: [0.2503407  0.05383594] True Value: [0.26530612 0.05612245]\n",
      "Predicted: [ 0.00441905 -0.23725682] True Value: [ 0.07142857 -0.21938776]\n",
      "Predicted: [ 0.07036845 -0.16312516] True Value: [ 0.04081633 -0.16836735]\n",
      "Predicted: [0.42660335 0.19389258] True Value: [0.42857143 0.19897959]\n",
      "Predicted: [ 0.16501008 -0.21794956] True Value: [ 0.18367347 -0.21938776]\n",
      "Predicted: [ 0.14078295 -0.2431291 ] True Value: [ 0.19387755 -0.22959184]\n",
      "Predicted: [0.23405799 0.12999474] True Value: [0.26530612 0.12755102]\n",
      "Predicted: [ 0.31025784 -0.24215695] True Value: [ 0.31632653 -0.23979592]\n",
      "Predicted: [ 0.30536783 -0.07739553] True Value: [ 0.31632653 -0.07653061]\n",
      "Predicted: [0.36255051 0.18875131] True Value: [0.3877551  0.18877551]\n",
      "Predicted: [0.11563724 0.09463159] True Value: [0.09183673 0.10714286]\n",
      "Predicted: [0.36356172 0.04788706] True Value: [0.32653061 0.04591837]\n",
      "Predicted: [0.40801457 0.13829023] True Value: [0.40816327 0.14795918]\n",
      "Predicted: [0.04025574 0.23870563] True Value: [0.03061224 0.25      ]\n",
      "Predicted: [0.08162821 0.03840301] True Value: [0.04081633 0.04591837]\n",
      "Predicted: [ 0.17948588 -0.15039325] True Value: [ 0.16326531 -0.14795918]\n",
      "Predicted: [0.15500251 0.12576628] True Value: [0.15306122 0.12755102]\n",
      "Predicted: [ 0.10178826 -0.14717903] True Value: [ 0.08163265 -0.14795918]\n",
      "Predicted: [0.17186085 0.04368362] True Value: [0.12244898 0.04591837]\n",
      "Predicted: [ 0.3301584  -0.13716914] True Value: [ 0.30612245 -0.14795918]\n",
      "Predicted: [ 0.05899934 -0.13846798] True Value: [ 0.13265306 -0.12755102]\n",
      "Predicted: [0.41715411 0.17389971] True Value: [0.42857143 0.17857143]\n",
      "Predicted: [ 0.40451196 -0.05408114] True Value: [ 0.3877551  -0.06632653]\n",
      "Predicted: [0.45050033 0.09619305] True Value: [0.46938776 0.09693878]\n",
      "Predicted: [ 0.2677578  -0.05481874] True Value: [ 0.25510204 -0.05612245]\n",
      "Predicted: [ 0.01883204 -0.05934186] True Value: [ 0.01020408 -0.05612245]\n",
      "Predicted: [0.0495286  0.19021541] True Value: [0.08163265 0.18877551]\n",
      "Predicted: [0.40134566 0.22675527] True Value: [0.42857143 0.22959184]\n",
      "Predicted: [0.43400915 0.1666153 ] True Value: [0.44897959 0.16836735]\n",
      "Predicted: [0.3282605  0.08805056] True Value: [0.31632653 0.09693878]\n",
      "Predicted: [0.05038342 0.06572683] True Value: [0.04081633 0.06632653]\n",
      "Predicted: [0.08465119 0.1531038 ] True Value: [0.08163265 0.15816327]\n",
      "Predicted: [0.32875596 0.01760754] True Value: [0.32653061 0.0255102 ]\n",
      "Predicted: [ 0.276376   -0.01331884] True Value: [ 0.26530612 -0.0255102 ]\n",
      "Predicted: [0.22256808 0.04254864] True Value: [0.25510204 0.03571429]\n",
      "Predicted: [ 0.1693424  -0.07308951] True Value: [ 0.16326531 -0.07653061]\n",
      "Predicted: [0.10232859 0.23852225] True Value: [0.1122449 0.25     ]\n",
      "Predicted: [ 0.17396473 -0.20173538] True Value: [ 0.21428571 -0.18877551]\n",
      "Predicted: [ 0.04103067 -0.11099821] True Value: [ 0.08163265 -0.10714286]\n",
      "Predicted: [0.16718432 0.04633945] True Value: [0.13265306 0.04591837]\n",
      "Predicted: [ 0.32389781 -0.05992625] True Value: [ 0.30612245 -0.06632653]\n",
      "Predicted: [ 0.20926162 -0.09004725] True Value: [ 0.2244898  -0.08673469]\n",
      "Predicted: [0.06003084 0.03303258] True Value: [0.05102041 0.04591837]\n",
      "Predicted: [0.29847088 0.09886184] True Value: [0.2755102  0.10714286]\n",
      "Predicted: [ 0.07999604 -0.17344205] True Value: [ 0.08163265 -0.16836735]\n",
      "Predicted: [0.19122139 0.1661696 ] True Value: [0.21428571 0.16836735]\n",
      "Predicted: [0.45008541 0.06746596] True Value: [0.45918367 0.07653061]\n",
      "Predicted: [ 0.19139989 -0.09512298] True Value: [ 0.24489796 -0.08673469]\n",
      "Predicted: [0.39650824 0.03274219] True Value: [0.41836735 0.03571429]\n",
      "Predicted: [0.08529883 0.22831944] True Value: [0.09183673 0.23979592]\n",
      "Predicted: [ 0.36397897 -0.16032346] True Value: [ 0.34693878 -0.16836735]\n",
      "Predicted: [0.39763027 0.00631256] True Value: [0.40816327 0.01530612]\n",
      "Predicted: [0.15742397 0.14247687] True Value: [0.15306122 0.14795918]\n",
      "Predicted: [ 0.17893259 -0.05602143] True Value: [ 0.21428571 -0.04591837]\n",
      "Predicted: [ 0.45332282 -0.10697247] True Value: [ 0.45918367 -0.09693878]\n",
      "Predicted: [0.11887648 0.10362617] True Value: [0.08163265 0.10714286]\n",
      "Predicted: [0.39247236 0.19072795] True Value: [0.40816327 0.18877551]\n",
      "Predicted: [0.3768147  0.04406855] True Value: [0.37755102 0.04591837]\n",
      "Predicted: [0.15375616 0.06082725] True Value: [0.15306122 0.07653061]\n",
      "Predicted: [0.35635923 0.01040837] True Value: [0.29591837 0.01530612]\n",
      "Predicted: [0.42846041 0.05578876] True Value: [0.36734694 0.06632653]\n",
      "Predicted: [0.3432412 0.1219392] True Value: [0.36734694 0.11734694]\n",
      "Predicted: [0.04835016 0.23491165] True Value: [0.02040816 0.25      ]\n",
      "Predicted: [0.16299964 0.20839317] True Value: [0.23469388 0.19897959]\n",
      "Predicted: [ 0.45819368 -0.26134915] True Value: [ 0.5        -0.23979592]\n",
      "Predicted: [0.22137754 0.16647025] True Value: [0.24489796 0.16836735]\n",
      "Predicted: [ 0.19466605 -0.19946621] True Value: [ 0.21428571 -0.19897959]\n",
      "Predicted: [ 0.36511256 -0.06035947] True Value: [ 0.35714286 -0.05612245]\n",
      "Predicted: [0.33875203 0.14353702] True Value: [0.33673469 0.14795918]\n",
      "Predicted: [0.42765125 0.17231385] True Value: [0.41836735 0.18877551]\n",
      "Predicted: [0.40112979 0.18064983] True Value: [0.43877551 0.17857143]\n",
      "Predicted: [0.41150204 0.0544289 ] True Value: [0.3877551  0.04591837]\n",
      "Predicted: [ 0.03309716 -0.12203228] True Value: [ 0.03061224 -0.11734694]\n",
      "Predicted: [0.08199117 0.13378556] True Value: [0.08163265 0.1377551 ]\n",
      "Predicted: [0.15252441 0.00156558] True Value: [0.20408163 0.00510204]\n",
      "Predicted: [0.28947229 0.07328223] True Value: [0.2755102  0.07653061]\n",
      "Predicted: [0.42129384 0.03544715] True Value: [0.39795918 0.03571429]\n",
      "Predicted: [0.19375983 0.04191606] True Value: [0.16326531 0.04591837]\n",
      "Predicted: [ 0.09446077 -0.21980232] True Value: [ 0.13265306 -0.20918367]\n",
      "Predicted: [0.11839775 0.04474073] True Value: [0.10204082 0.03571429]\n",
      "Predicted: [0.26280553 0.08731724] True Value: [0.2244898  0.08673469]\n",
      "Predicted: [0.01793395 0.24008465] True Value: [0.   0.25]\n",
      "Predicted: [ 0.04242134 -0.07802666] True Value: [ 0.01020408 -0.07653061]\n",
      "Predicted: [ 0.36781184 -0.09061769] True Value: [ 0.40816327 -0.08673469]\n",
      "Predicted: [ 0.24646842 -0.05011783] True Value: [ 0.2755102  -0.04591837]\n",
      "Predicted: [ 0.41806515 -0.05476186] True Value: [ 0.45918367 -0.04591837]\n",
      "Predicted: [0.01268933 0.23031645] True Value: [0.         0.23979592]\n",
      "Predicted: [0.25710237 0.09385161] True Value: [0.26530612 0.09693878]\n",
      "Predicted: [0.35498966 0.05882676] True Value: [0.33673469 0.06632653]\n",
      "Predicted: [0.1524369  0.13131092] True Value: [0.16326531 0.1377551 ]\n",
      "Predicted: [ 0.43970289 -0.12806328] True Value: [ 0.43877551 -0.12755102]\n",
      "Predicted: [ 0.04375393 -0.00891382] True Value: [ 0.02040816 -0.00510204]\n",
      "Predicted: [ 0.13586873 -0.14370408] True Value: [ 0.12244898 -0.14795918]\n",
      "Predicted: [ 0.3497134  -0.14553843] True Value: [ 0.37755102 -0.14795918]\n",
      "Predicted: [0.47122358 0.07352765] True Value: [0.46938776 0.07653061]\n",
      "Predicted: [ 0.26685201 -0.13381933] True Value: [ 0.30612245 -0.12755102]\n",
      "Predicted: [0.13979859 0.16481152] True Value: [0.14285714 0.16836735]\n",
      "Predicted: [0.03770691 0.00457559] True Value: [0.         0.00510204]\n",
      "Predicted: [0.46633191 0.13453236] True Value: [0.47959184 0.1377551 ]\n",
      "Predicted: [ 0.3478406  -0.23259823] True Value: [ 0.35714286 -0.22959184]\n",
      "Predicted: [0.31111745 0.08107824] True Value: [0.30612245 0.08673469]\n",
      "Predicted: [ 0.31461528 -0.10309801] True Value: [ 0.36734694 -0.09693878]\n",
      "Predicted: [ 0.34452957 -0.07856001] True Value: [ 0.32653061 -0.08673469]\n",
      "Predicted: [ 0.29368288 -0.21889363] True Value: [ 0.29591837 -0.20918367]\n",
      "Predicted: [ 0.09722392 -0.09115416] True Value: [ 0.1122449  -0.09693878]\n",
      "Predicted: [0.14335076 0.20244981] True Value: [0.16326531 0.20918367]\n",
      "Predicted: [0.46208331 0.1506684 ] True Value: [0.5        0.14795918]\n",
      "Predicted: [ 0.31604602 -0.18397316] True Value: [ 0.29591837 -0.18877551]\n",
      "Predicted: [ 0.06956505 -0.13982929] True Value: [ 0.07142857 -0.1377551 ]\n",
      "Predicted: [ 0.38714313 -0.09212532] True Value: [ 0.31632653 -0.09693878]\n",
      "Predicted: [0.48773169 0.23716671] True Value: [0.5        0.23979592]\n",
      "Predicted: [ 0.48830605 -0.09819707] True Value: [ 0.48979592 -0.10714286]\n",
      "Predicted: [0.37628535 0.09598497] True Value: [0.36734694 0.09693878]\n",
      "Predicted: [0.39290605 0.08469196] True Value: [0.35714286 0.09693878]\n",
      "Predicted: [0.11631342 0.05439229] True Value: [0.08163265 0.05612245]\n",
      "Predicted: [ 0.41491096 -0.16499383] True Value: [ 0.46938776 -0.15816327]\n",
      "Predicted: [0.13542944 0.12266692] True Value: [0.12244898 0.12755102]\n",
      "Predicted: [0.40065466 0.13198961] True Value: [0.43877551 0.12755102]\n",
      "Predicted: [ 0.10323766 -0.24112269] True Value: [ 0.13265306 -0.23979592]\n",
      "Predicted: [0.05380435 0.15093948] True Value: [0.04081633 0.15816327]\n",
      "Predicted: [0.12293872 0.18781022] True Value: [0.13265306 0.18877551]\n",
      "Predicted: [ 0.03303907 -0.05428652] True Value: [ 0.01020408 -0.04591837]\n",
      "Predicted: [0.41258964 0.0751745 ] True Value: [0.44897959 0.07653061]\n",
      "Predicted: [ 0.09537368 -0.25423359] True Value: [ 0.13265306 -0.25      ]\n",
      "Predicted: [ 0.4170122  -0.06410138] True Value: [ 0.40816327 -0.06632653]\n",
      "Predicted: [ 0.05832919 -0.01520735] True Value: [ 0.01020408 -0.01530612]\n",
      "Predicted: [ 0.20589615 -0.12230331] True Value: [ 0.23469388 -0.11734694]\n",
      "Predicted: [ 0.09324213 -0.23929756] True Value: [ 0.07142857 -0.25      ]\n",
      "Predicted: [0.41203734 0.15911123] True Value: [0.45918367 0.14795918]\n",
      "Predicted: [ 0.39621324 -0.0788952 ] True Value: [ 0.43877551 -0.06632653]\n",
      "Predicted: [0.18418547 0.23087184] True Value: [0.21428571 0.23979592]\n",
      "Predicted: [0.27988181 0.21906771] True Value: [0.28571429 0.21938776]\n",
      "Predicted: [0.4701662 0.0309822] True Value: [0.46938776 0.03571429]\n",
      "Predicted: [ 0.01750209 -0.0007368 ] True Value: [0.01020408 0.01530612]\n",
      "Predicted: [0.06419317 0.06898886] True Value: [0.08163265 0.07653061]\n",
      "Predicted: [0.48677047 0.22679878] True Value: [0.46938776 0.25      ]\n",
      "Predicted: [0.25906211 0.17104388] True Value: [0.25510204 0.17857143]\n",
      "Predicted: [ 0.02951432 -0.18447959] True Value: [ 0.03061224 -0.17857143]\n",
      "Predicted: [0.34999173 0.24501515] True Value: [0.35714286 0.23979592]\n",
      "Predicted: [ 0.26502017 -0.206182  ] True Value: [ 0.28571429 -0.19897959]\n",
      "Predicted: [ 0.43093246 -0.24292078] True Value: [ 0.41836735 -0.25      ]\n",
      "Predicted: [0.05912045 0.09818449] True Value: [0.02040816 0.10714286]\n",
      "Predicted: [0.40596594 0.12846829] True Value: [0.42857143 0.12755102]\n",
      "Predicted: [0.37100425 0.03619567] True Value: [0.3877551  0.03571429]\n",
      "Predicted: [0.3329109  0.14694683] True Value: [0.33673469 0.15816327]\n",
      "Predicted: [ 0.18958218 -0.08439078] True Value: [ 0.17346939 -0.07653061]\n",
      "Predicted: [0.39341261 0.22761068] True Value: [0.3877551 0.25     ]\n",
      "Predicted: [ 0.00762577 -0.2331289 ] True Value: [ 0.01020408 -0.23979592]\n",
      "Predicted: [ 0.40985668 -0.24455199] True Value: [ 0.3877551 -0.25     ]\n",
      "Predicted: [0.14073277 0.02957793] True Value: [0.13265306 0.03571429]\n",
      "Predicted: [ 0.29837858 -0.22522264] True Value: [ 0.30612245 -0.21938776]\n",
      "Predicted: [0.06643832 0.14010305] True Value: [0.05102041 0.14795918]\n",
      "Predicted: [0.4514311  0.21492017] True Value: [0.44897959 0.22959184]\n",
      "Predicted: [ 0.28106252 -0.04928726] True Value: [ 0.28571429 -0.04591837]\n",
      "Predicted: [ 0.287854   -0.24874661] True Value: [ 0.32653061 -0.22959184]\n",
      "Predicted: [0.12278272 0.06736179] True Value: [0.10204082 0.07653061]\n",
      "Predicted: [0.07124033 0.04500127] True Value: [0.09183673 0.04591837]\n",
      "Predicted: [ 0.30602328 -0.22051369] True Value: [ 0.28571429 -0.21938776]\n",
      "Predicted: [0.40788731 0.0667293 ] True Value: [0.3877551  0.07653061]\n",
      "Predicted: [0.04804777 0.16741319] True Value: [0.05102041 0.16836735]\n",
      "Predicted: [ 0.35250586 -0.03245437] True Value: [ 0.34693878 -0.03571429]\n",
      "Predicted: [ 0.26528838 -0.06489811] True Value: [ 0.21428571 -0.06632653]\n",
      "Predicted: [ 0.26302405 -0.01359959] True Value: [ 0.20408163 -0.01530612]\n",
      "Predicted: [0.40814783 0.04758424] True Value: [0.43877551 0.04591837]\n",
      "Predicted: [0.42543389 0.02487619] True Value: [0.44897959 0.0255102 ]\n",
      "Predicted: [ 0.14613695 -0.19732715] True Value: [ 0.14285714 -0.19897959]\n",
      "Predicted: [0.42841037 0.08726554] True Value: [0.40816327 0.09693878]\n",
      "Predicted: [ 0.04199795 -0.19633256] True Value: [ 0.08163265 -0.18877551]\n",
      "Predicted: [0.40458164 0.23236231] True Value: [0.41836735 0.25      ]\n",
      "Predicted: [ 0.4074     -0.01804321] True Value: [ 0.40816327 -0.01530612]\n",
      "Predicted: [ 0.47023568 -0.17767531] True Value: [ 0.48979592 -0.16836735]\n",
      "Predicted: [0.2103269  0.03246274] True Value: [0.19387755 0.03571429]\n",
      "Predicted: [0.28945898 0.21903549] True Value: [0.34693878 0.20918367]\n",
      "Predicted: [0.38990833 0.06245359] True Value: [0.37755102 0.05612245]\n",
      "Predicted: [0.0530586  0.17719842] True Value: [0.06122449 0.17857143]\n",
      "Predicted: [0.4142501 0.1470048] True Value: [0.39795918 0.15816327]\n",
      "Predicted: [0.47088925 0.01606038] True Value: [0.5        0.01530612]\n",
      "Predicted: [0.17790688 0.09329652] True Value: [0.16326531 0.09693878]\n",
      "Predicted: [ 0.29976875 -0.23240298] True Value: [ 0.29591837 -0.22959184]\n",
      "Predicted: [0.07951111 0.22699654] True Value: [0.05102041 0.25      ]\n",
      "Predicted: [0.39717926 0.12406437] True Value: [0.39795918 0.1377551 ]\n",
      "Predicted: [0.42925827 0.20038593] True Value: [0.45918367 0.18877551]\n",
      "Predicted: [0.09372765 0.20648284] True Value: [0.09183673 0.20918367]\n",
      "Predicted: [ 0.15115113 -0.13602545] True Value: [ 0.16326531 -0.12755102]\n",
      "Predicted: [0.16121399 0.05056273] True Value: [0.18367347 0.04591837]\n",
      "Predicted: [ 0.15714917 -0.2004498 ] True Value: [ 0.21428571 -0.17857143]\n",
      "Predicted: [0.34346885 0.12363941] True Value: [0.32653061 0.12755102]\n",
      "Predicted: [ 0.46803619 -0.21497159] True Value: [ 0.5        -0.19897959]\n",
      "Predicted: [ 0.06653797 -0.04570939] True Value: [ 0.04081633 -0.04591837]\n",
      "Predicted: [0.47809792 0.11142113] True Value: [0.5        0.11734694]\n",
      "Predicted: [ 0.3482801  -0.15291313] True Value: [ 0.33673469 -0.15816327]\n",
      "Predicted: [0.13858568 0.01734154] True Value: [0.10204082 0.0255102 ]\n",
      "Predicted: [0.3033044  0.11020528] True Value: [0.29591837 0.11734694]\n",
      "Predicted: [ 0.4942266  -0.00690987] True Value: [0.47959184 0.00510204]\n",
      "Predicted: [ 0.3448304  -0.16137249] True Value: [ 0.32653061 -0.15816327]\n",
      "Predicted: [0.07847399 0.21691203] True Value: [0.1122449  0.21938776]\n",
      "Predicted: [0.02028429 0.08150642] True Value: [0.01020408 0.09693878]\n",
      "Predicted: [ 0.43978279 -0.12106269] True Value: [ 0.44897959 -0.11734694]\n"
     ]
    }
   ],
   "source": [
    "from sklearn.model_selection import train_test_split\n",
    "from sklearn.neural_network import MLPRegressor\n",
    "from sklearn.preprocessing import StandardScaler\n",
    "import numpy as np\n",
    "\n",
    "# Normalize data for NN\n",
    "X_scaler = StandardScaler()\n",
    "target_scaler = StandardScaler()\n",
    "X_scaler.fit(X)\n",
    "target_scaler.fit(target)\n",
    "X_norm = X_scaler.transform(X)\n",
    "target_norm = target_scaler.transform(target)\n",
    "\n",
    "# Split the data into training and test sets\n",
    "X_train, X_test, y_train, y_test = train_test_split(X_norm, target_norm, test_size=0.2, random_state=42)\n",
    "\n",
    "# Train a neural network model on the training data\n",
    "print(\"Training data shape:\", y_train.shape)\n",
    "rgs = MLPRegressor(alpha=1e-5, random_state=1, hidden_layer_sizes=(64, 64, 64, 64), solver='adam', max_iter=10000)\n",
    "rgs.fit(X_train, y_train)\n",
    "\n",
    "# Testing the model on the test set\n",
    "predictions = rgs.predict(X_test)\n",
    "predictions = target_scaler.inverse_transform(predictions)\n",
    "\n",
    "for i in range(len(X_test)):\n",
    "    print(\"Predicted:\", predictions[i], \"True Value:\", target_scaler.inverse_transform(y_test)[i])\n"
   ]
  },
  {
   "cell_type": "code",
   "execution_count": 74,
   "id": "c6d5dbe6-abd2-4f02-af7d-fa25143377be",
   "metadata": {},
   "outputs": [
    {
     "data": {
      "image/png": "[encoded data removed]",
      "text/plain": [
       "<Figure size 700x350 with 2 Axes>"
      ]
     },
     "metadata": {},
     "output_type": "display_data"
    }
   ],
   "source": [
    "import matplotlib.pyplot as plt\n",
    "\n",
    "true_values = target_scaler.inverse_transform(y_test)\n",
    "\n",
    "# Select the number of points to plot\n",
    "num_points_to_plot = len(X_test)\n",
    "\n",
    "# Plotting the first few predictions vs true values for both alpha and s\n",
    "plt.figure(figsize=(7, 3.5))\n",
    "\n",
    "# Plot for alpha\n",
    "plt.subplot(1, 2, 1)\n",
    "plt.scatter(true_values[:num_points_to_plot, 0], predictions[:num_points_to_plot, 0], color='blue', s= 0.5)\n",
    "plt.plot([0, .5], [0, .5], 'k--')\n",
    "plt.xlabel('True Alpha')\n",
    "plt.ylabel('Predicted Alpha')\n",
    "plt.title('Predicted vs True Alpha')\n",
    "\n",
    "# Plot for s\n",
    "plt.subplot(1, 2, 2)\n",
    "plt.scatter(true_values[:num_points_to_plot, 1], predictions[:num_points_to_plot, 1], color='red', s = 0.5)\n",
    "plt.plot([-0.25, 0.25], [-0.25, 0.25], 'k--')\n",
    "plt.xlabel('True s')\n",
    "plt.ylabel('Predicted s')\n",
    "plt.title('Predicted vs True s')\n",
    "plt.savefig(\"nn_acc.png\")\n",
    "plt.tight_layout()\n",
    "plt.show()"
   ]
  },
  {
   "cell_type": "code",
   "execution_count": 9,
   "id": "9d8f5d5f-2faa-4b76-86cd-43eaf5e5f383",
   "metadata": {},
   "outputs": [
    {
     "name": "stdout",
     "output_type": "stream",
     "text": [
      "Alpha - Mean Absolute Error: 0.020833868738268025, Root Mean Squared Error: 0.026335382822476928\n",
      "s - Mean Absolute Error: 0.006089460126867602, Root Mean Squared Error: 0.00792646751597172\n"
     ]
    }
   ],
   "source": [
    "from sklearn.metrics import mean_absolute_error, mean_squared_error\n",
    "import numpy as np\n",
    "\n",
    "# Making predictions on the test set\n",
    "predictions = rgs.predict(X_test)\n",
    "predictions = target_scaler.inverse_transform(predictions)  # Convert predictions back to original scale\n",
    "\n",
    "# Splitting predictions into alpha and s components\n",
    "predicted_alphas = predictions[:, 0]\n",
    "predicted_ses = predictions[:, 1]\n",
    "\n",
    "# Splitting true values into alpha and s components\n",
    "true_alphas = target_scaler.inverse_transform(y_test)[:, 0]\n",
    "true_ses = target_scaler.inverse_transform(y_test)[:, 1]\n",
    "\n",
    "# Calculate and print error metrics for alpha\n",
    "mae_alpha = mean_absolute_error(true_alphas, predicted_alphas)\n",
    "rmse_alpha = np.sqrt(mean_squared_error(true_alphas, predicted_alphas))\n",
    "print(f\"Alpha - Mean Absolute Error: {mae_alpha}, Root Mean Squared Error: {rmse_alpha}\")\n",
    "\n",
    "# Calculate and print error metrics for s\n",
    "mae_s = mean_absolute_error(true_ses, predicted_ses)\n",
    "rmse_s = np.sqrt(mean_squared_error(true_ses, predicted_ses))\n",
    "print(f\"s - Mean Absolute Error: {mae_s}, Root Mean Squared Error: {rmse_s}\")"
   ]
  },
  {
   "cell_type": "code",
   "execution_count": 86,
   "id": "1f44208d-3a28-45aa-a0bd-d40ec23210ac",
   "metadata": {},
   "outputs": [],
   "source": [
    "# Transforms the frequencies to a list of repeated numbers, to calculate summary statistics\n",
    "def freq_to_count(y):\n",
    "    y_list = []\n",
    "    for i in range(len(y)):\n",
    "        y_list += y[i]*[i]  \n",
    "    return y_list \n",
    "\n",
    "def summary_statistics(data):\n",
    "    # Some summary statistics. Skew gives some kind of distribution atleast, see plot in last cell\n",
    "    mean = np.mean(data)\n",
    "    std = np.std(data)\n",
    "    skewness = skew(data)\n",
    "    #mode_value = np.max(data)\n",
    "    mode_value = mode(data, keepdims=True).mode[0]\n",
    "    #print(mode(data).mode)\n",
    "    return np.array([mean, std, skewness, mode_value])\n",
    "\n",
    "def gaussian_kernel(dist, h):\n",
    "    return np.exp(-dist**2 / (2 * h**2))\n",
    "\n",
    "def biweight_kernel(dist, h):\n",
    "    if abs(dist) <= h:\n",
    "        return 15/16 * ((1 - (dist / h) ** 2) ** 2)\n",
    "    else:\n",
    "        return 0\n",
    "\n",
    "def abc_rejection_sampling(data_obs, h, num_simulations=10, rgs = None, prior = None, repeats=0):\n",
    "    accepted_alphas = []\n",
    "    random_s = []\n",
    "    acceptance_ratios = []\n",
    "    stds = []\n",
    "    # Sets the first normal distribution, large var to approach uniform dist.\n",
    "    if prior == None:\n",
    "        mean_val = 0.25\n",
    "        std_val = 10\n",
    "        skew_val = 0\n",
    "        #prior = uniform(a=0,b=0.5)\n",
    "    else:\n",
    "        [mean_val, std_val, skew_val, mode_val] = summary_statistics(prior)\n",
    "    \n",
    "    # Loop over the number of simulations\n",
    "    for ix in tqdm(range(repeats)):\n",
    "        tmp_accepted_alphas = []\n",
    "        tmp_random_s = []\n",
    "        for jx in tqdm(range(num_simulations)):\n",
    "            observed_exp = experiment().astype(int)  # Generate experiment data, see code above\n",
    "            observed_exp_list = freq_to_count(observed_exp)\n",
    "            \n",
    "            # alpha governs the variance\n",
    "            ss_obs = summary_statistics(observed_exp_list)[1]\n",
    "        \n",
    "            # Randomly sample alpha, within bounds\n",
    "            alpha = 1\n",
    "            while alpha < 0 or alpha > 0.5:\n",
    "                alpha = skewnorm.rvs(a=skew_val,loc=mean_val,scale=std_val)\n",
    "            \n",
    "            # Uses ML model if available, otherwise random uniform\n",
    "            if rgs != None:\n",
    "                observed_exp = observed_exp.reshape(1,-1)\n",
    "                observed_exp = X_scaler.transform(observed_exp)\n",
    "                ret = rgs.predict(observed_exp)\n",
    "                ret = target_scaler.inverse_transform(ret)\n",
    "                s_mean = ret[0,1]\n",
    "                s = norm.rvs(loc = s_mean, scale = rmse_s)\n",
    "            else:\n",
    "                s = np.random.uniform(-0.25, 0.25)\n",
    "            tmp_random_s.append(s)\n",
    "\n",
    "            # Simulate an experiment with the sampled parameters\n",
    "            sim_exp = simulate_exp(alpha, s)\n",
    "            sim_exp_list = freq_to_count(sim_exp)\n",
    "            ss_exp = summary_statistics(sim_exp_list)[1]\n",
    "\n",
    "            dist = ss_obs - ss_exp\n",
    "            \n",
    "            # Calculate kernel\n",
    "            w = biweight_kernel(dist, h)\n",
    "            \n",
    "            # Acceptance probability from algorithm 5 in chapter 10\n",
    "            if rgs != None:\n",
    "                s_dist = norm.pdf(s, loc = s_mean, scale = rmse_s)\n",
    "                a_dist = skewnorm.pdf(alpha,a=skew_val,loc=mean_val,scale=std_val)\n",
    "                m = biweight_kernel(0,h)*skewnorm.pdf(mean_val, a=skew_val, loc=mean_val, scale=std_val)/norm.pdf(s_mean, loc=s_mean, scale=rmse_s)\n",
    "                p = w*a_dist/(s_dist*m)\n",
    "                if p > np.random.uniform(0, 1):\n",
    "                    tmp_accepted_alphas.append(alpha)\n",
    "            # w is higher than a random threshold, accept alpha\n",
    "            else:    \n",
    "                if w > np.random.uniform(0, 1):\n",
    "                    tmp_accepted_alphas.append(alpha)\n",
    "            \n",
    "        # Use the accepted alphas to create a prior, assumed skewed normal\n",
    "        [mean_val, std_val, skew_val, mode_val] = summary_statistics(tmp_accepted_alphas)\n",
    "        stds.append(std_val)\n",
    "        print(mean_val,std_val, skew_val, mode_val)\n",
    "        acceptance_ratio = len(tmp_accepted_alphas)/num_simulations\n",
    "        acceptance_ratios.append(acceptance_ratio)\n",
    "        accepted_alphas.append(tmp_accepted_alphas)\n",
    "        random_s.append(tmp_random_s)\n",
    "\n",
    "        # The acceptance ratio should probabli be aroun 50%\n",
    "        print(f\"Accepted: {acceptance_ratio*100}%\")\n",
    "\n",
    "\n",
    "    return accepted_alphas, acceptance_ratios, random_s, stds"
   ]
  },
  {
   "cell_type": "code",
   "execution_count": 81,
   "id": "bd379363-d53b-4919-9023-8ee0002f8498",
   "metadata": {},
   "outputs": [
    {
     "name": "stdout",
     "output_type": "stream",
     "text": [
      "Mean var skew mode\n",
      "[15.621       2.77044383 -0.08397593 16.        ]\n",
      "Mean var skew mode\n",
      "[15.456       4.70404762  0.11666652 15.        ]\n"
     ]
    },
    {
     "data": {
      "image/png": "[encoded data removed]",
      "text/plain": [
       "<Figure size 350x350 with 1 Axes>"
      ]
     },
     "metadata": {},
     "output_type": "display_data"
    }
   ],
   "source": [
    "alpha_1 = 0\n",
    "alpha_2 = 0.5\n",
    "y_1 = simulate_exp(0, 0)\n",
    "y_list_1 = freq_to_count(y_1)\n",
    "y_2 = simulate_exp(0.5, 0)\n",
    "y_list_2 = freq_to_count(y_2)\n",
    "#print(y_list)\n",
    "print(\"Mean var skew mode\")\n",
    "print(summary_statistics(y_list_1))\n",
    "print(\"Mean var skew mode\")\n",
    "print(summary_statistics(y_list_2))\n",
    "x = experiment_data[0]\n",
    "#plt.hist(y_list, bins = 32)\n",
    "fig = plt.figure(figsize=(3.5,3.5))\n",
    "plt.bar(np.arange(0,32),y_1, label=r\"$\\alpha$ = 0\",zorder = 2, alpha = 0.5)\n",
    "plt.bar(np.arange(0,32),y_2, label=r\"$\\alpha$ = 0.5\", zorder = 1, alpha = 0.5)\n",
    "plt.xlim(0,31)\n",
    "plt.xlabel('bin no.')\n",
    "plt.ylabel('frequency')\n",
    "plt.title(r\"Simulated data of different $\\alpha$\")\n",
    "plt.legend(loc = 'upper center',bbox_to_anchor = (0.5,-0.2))\n",
    "\n",
    "plt.tight_layout()\n",
    "plt.savefig(\"different_alpha.png\")"
   ]
  },
  {
   "cell_type": "code",
   "execution_count": 87,
   "id": "2a3373de-9352-48d7-ad91-93b96d75f123",
   "metadata": {},
   "outputs": [
    {
     "name": "stdout",
     "output_type": "stream",
     "text": [
      "1000\n"
     ]
    },
    {
     "data": {
      "application/vnd.jupyter.widget-view+json": {
       "model_id": "e54adb1de4904059b5ba9067f7a3f464",
       "version_major": 2,
       "version_minor": 0
      },
      "text/plain": [
       "  0%|          | 0/10 [00:00<?, ?it/s]"
      ]
     },
     "metadata": {},
     "output_type": "display_data"
    },
    {
     "data": {
      "application/vnd.jupyter.widget-view+json": {
       "model_id": "d82f3fa9f0184fe9873818e8ad2b6c92",
       "version_major": 2,
       "version_minor": 0
      },
      "text/plain": [
       "  0%|          | 0/100 [00:00<?, ?it/s]"
      ]
     },
     "metadata": {},
     "output_type": "display_data"
    },
    {
     "name": "stdout",
     "output_type": "stream",
     "text": [
      "0.26602941799226265 0.12758504562155576 -0.18569339545513003 0.021245868596787454\n",
      "Accepted: 84.0%\n"
     ]
    },
    {
     "data": {
      "application/vnd.jupyter.widget-view+json": {
       "model_id": "61a527c9778640eab9c79c2c1c2fc7b3",
       "version_major": 2,
       "version_minor": 0
      },
      "text/plain": [
       "  0%|          | 0/100 [00:00<?, ?it/s]"
      ]
     },
     "metadata": {},
     "output_type": "display_data"
    },
    {
     "name": "stdout",
     "output_type": "stream",
     "text": [
      "0.2665869872190678 0.07915260428651401 0.3512802034725953 0.11844141538662542\n",
      "Accepted: 72.0%\n"
     ]
    },
    {
     "data": {
      "application/vnd.jupyter.widget-view+json": {
       "model_id": "cd6b77a54e7c4e9e999a6be4ca179b88",
       "version_major": 2,
       "version_minor": 0
      },
      "text/plain": [
       "  0%|          | 0/100 [00:00<?, ?it/s]"
      ]
     },
     "metadata": {},
     "output_type": "display_data"
    },
    {
     "name": "stdout",
     "output_type": "stream",
     "text": [
      "0.2961082549199434 0.059893852442091174 0.1700750324554498 0.1498647097151507\n",
      "Accepted: 84.0%\n"
     ]
    },
    {
     "data": {
      "application/vnd.jupyter.widget-view+json": {
       "model_id": "199c5ed3bc4745b987571e7f62cf52ff",
       "version_major": 2,
       "version_minor": 0
      },
      "text/plain": [
       "  0%|          | 0/100 [00:00<?, ?it/s]"
      ]
     },
     "metadata": {},
     "output_type": "display_data"
    },
    {
     "name": "stdout",
     "output_type": "stream",
     "text": [
      "0.3078037713717358 0.04537869027813122 0.02975370157317916 0.20127532204884593\n",
      "Accepted: 82.0%\n"
     ]
    },
    {
     "data": {
      "application/vnd.jupyter.widget-view+json": {
       "model_id": "6452d0a0c4d246fdbead644b080684e6",
       "version_major": 2,
       "version_minor": 0
      },
      "text/plain": [
       "  0%|          | 0/100 [00:00<?, ?it/s]"
      ]
     },
     "metadata": {},
     "output_type": "display_data"
    },
    {
     "name": "stdout",
     "output_type": "stream",
     "text": [
      "0.31175015284570784 0.03150985118985497 -0.05484799615259287 0.2367160758001247\n",
      "Accepted: 74.0%\n"
     ]
    },
    {
     "data": {
      "application/vnd.jupyter.widget-view+json": {
       "model_id": "81b11ae0b5ad4da49d4593b913fb38db",
       "version_major": 2,
       "version_minor": 0
      },
      "text/plain": [
       "  0%|          | 0/100 [00:00<?, ?it/s]"
      ]
     },
     "metadata": {},
     "output_type": "display_data"
    },
    {
     "name": "stdout",
     "output_type": "stream",
     "text": [
      "0.3075243784843621 0.023034655280848786 -0.26349659270698966 0.2528993249759422\n",
      "Accepted: 78.0%\n"
     ]
    },
    {
     "data": {
      "application/vnd.jupyter.widget-view+json": {
       "model_id": "70700ecda90e429e850e4f8b4b983714",
       "version_major": 2,
       "version_minor": 0
      },
      "text/plain": [
       "  0%|          | 0/100 [00:00<?, ?it/s]"
      ]
     },
     "metadata": {},
     "output_type": "display_data"
    },
    {
     "name": "stdout",
     "output_type": "stream",
     "text": [
      "0.2999546969556585 0.01787989944282517 -0.11500347218361588 0.25936404683591\n",
      "Accepted: 83.0%\n"
     ]
    },
    {
     "data": {
      "application/vnd.jupyter.widget-view+json": {
       "model_id": "408a97ebbed94ef7ae64a5cc51f46c93",
       "version_major": 2,
       "version_minor": 0
      },
      "text/plain": [
       "  0%|          | 0/100 [00:00<?, ?it/s]"
      ]
     },
     "metadata": {},
     "output_type": "display_data"
    },
    {
     "name": "stdout",
     "output_type": "stream",
     "text": [
      "0.3019110675542879 0.013626829400421068 0.08681271016674612 0.27204968266378604\n",
      "Accepted: 83.0%\n"
     ]
    },
    {
     "data": {
      "application/vnd.jupyter.widget-view+json": {
       "model_id": "a59f5688942f4e00b148b3be38c5f5e3",
       "version_major": 2,
       "version_minor": 0
      },
      "text/plain": [
       "  0%|          | 0/100 [00:00<?, ?it/s]"
      ]
     },
     "metadata": {},
     "output_type": "display_data"
    },
    {
     "name": "stdout",
     "output_type": "stream",
     "text": [
      "0.305281558144817 0.009481511233860675 -0.2783777348575085 0.2773611865087758\n",
      "Accepted: 84.0%\n"
     ]
    },
    {
     "data": {
      "application/vnd.jupyter.widget-view+json": {
       "model_id": "bd3083d1ac3a4f2e93230eb52d9b42c2",
       "version_major": 2,
       "version_minor": 0
      },
      "text/plain": [
       "  0%|          | 0/100 [00:00<?, ?it/s]"
      ]
     },
     "metadata": {},
     "output_type": "display_data"
    },
    {
     "name": "stdout",
     "output_type": "stream",
     "text": [
      "Warning: reusing old experiments\n",
      "0.303297125324497 0.007365322349692878 0.03500143616764219 0.28662363642042893\n",
      "Accepted: 83.0%\n"
     ]
    }
   ],
   "source": [
    "i_experiment = 0\n",
    "num_simulations = 100\n",
    "# Since the variance is used, h needs to be in scale of \"number of beads off in the variance\"\n",
    "h = 1\n",
    "# Gets unstable after a couple of repeats\n",
    "repeats = 10\n",
    "print(len(experiment_data))\n",
    "\n",
    "accepted_alphas, acc_ratios, proposed_ses, stds = abc_rejection_sampling(experiment_data, h, num_simulations, \n",
    "                                                                              rgs=rgs, repeats = repeats)"
   ]
  },
  {
   "cell_type": "code",
   "execution_count": 88,
   "id": "4ecf9b82",
   "metadata": {},
   "outputs": [
    {
     "data": {
      "image/png": "[encoded data removed]",
      "text/plain": [
       "<Figure size 700x300 with 2 Axes>"
      ]
     },
     "metadata": {},
     "output_type": "display_data"
    }
   ],
   "source": [
    "# Plot the standard variance per repetition\n",
    "plt.figure(figsize=(7,3))\n",
    "plt.subplot(1,2,1)\n",
    "plt.plot(stds)\n",
    "plt.xlabel(\"Repetition number\")\n",
    "plt.ylabel(r\"Standard deviation in $\\alpha$\")\n",
    "plt.title(\"Change in standard deviation \\nduring repetitions\")\n",
    "\n",
    "plt.subplot(1,2,2)\n",
    "plt.plot(acc_ratios)\n",
    "plt.xlabel(\"Repetition number\")\n",
    "plt.ylabel(r\"Acceptance ratio\")\n",
    "plt.title(\"Change in acceptance ratio \\nduring repetitions\")\n",
    "plt.tight_layout()\n",
    "plt.savefig(\"ABC_refined.png\")\n",
    "plt.show()"
   ]
  },
  {
   "cell_type": "code",
   "execution_count": 83,
   "id": "62789810-2cc6-40ef-998c-97148a23ac3e",
   "metadata": {},
   "outputs": [
    {
     "data": {
      "image/png": "[encoded data removed]",
      "text/plain": [
       "<Figure size 700x350 with 2 Axes>"
      ]
     },
     "metadata": {},
     "output_type": "display_data"
    }
   ],
   "source": [
    "# Flatten the list of lists into a single list\n",
    "#flat_accepted_alphas = [alpha for sublist in accepted_alphas for alpha in sublist]\n",
    "flat_accepted_alphas = accepted_alphas[-1]\n",
    "\n",
    "# Plotting\n",
    "plt.figure(figsize=(7, 3.5))\n",
    "\n",
    "# Histogram\n",
    "plt.subplot(1, 2, 1)\n",
    "plt.hist(flat_accepted_alphas, bins=50, edgecolor='black', alpha=0.7)\n",
    "plt.xlabel('alpha')\n",
    "plt.ylabel('Frequency')\n",
    "plt.title('Histogram of Accepted Alphas')\n",
    "plt.ticklabel_format(useOffset=False)\n",
    "\n",
    "# Kernel Density Estimate Plot\n",
    "plt.subplot(1, 2, 2)\n",
    "sns.kdeplot(flat_accepted_alphas, fill=True)\n",
    "plt.xlabel('alpha')\n",
    "plt.title('Kernel Density Estimate of Accepted Alphas')\n",
    "plt.ticklabel_format(useOffset=False)\n",
    "plt.tight_layout()\n",
    "plt.savefig(\"accepted_alphas.png\")\n",
    "plt.show()\n"
   ]
  },
  {
   "cell_type": "code",
   "execution_count": 84,
   "id": "382fbdc4",
   "metadata": {},
   "outputs": [
    {
     "name": "stdout",
     "output_type": "stream",
     "text": [
      "Median:0.30557538877102297 ((0.24333986682760794, 0.35859738317800605))\n"
     ]
    },
    {
     "data": {
      "image/png": "[encoded data removed]",
      "text/plain": [
       "<Figure size 350x300 with 1 Axes>"
      ]
     },
     "metadata": {},
     "output_type": "display_data"
    }
   ],
   "source": [
    "import numpy as np\n",
    "\n",
    "# Calculate percentiles\n",
    "lower_percentile = np.percentile(flat_accepted_alphas, 5)\n",
    "median = np.percentile(flat_accepted_alphas, 50)\n",
    "upper_percentile = np.percentile(flat_accepted_alphas, 95)\n",
    "\n",
    "print(f'Median:{median} ({lower_percentile, upper_percentile})')\n",
    "\n",
    "fig = plt.figure(figsize=(3.5,3))\n",
    "sns.kdeplot(flat_accepted_alphas, fill=True)\n",
    "plt.axvline(lower_percentile, color='red', linestyle='--', label='5th percentile')\n",
    "plt.axvline(median, color='green', linestyle='-', label='Median')\n",
    "plt.axvline(upper_percentile, color='red', linestyle='--', label='95th percentile')\n",
    "plt.xlabel('alpha')\n",
    "plt.title('KDE of Accepted Alphas with 95% CI')\n",
    "plt.legend(loc = 'upper center',bbox_to_anchor = (0.5,-0.2))\n",
    "plt.savefig(\"alpha_ci.png\")\n",
    "plt.show()"
   ]
  },
  {
   "cell_type": "code",
   "execution_count": null,
   "id": "bf137439",
   "metadata": {},
   "outputs": [],
   "source": []
  }
 ],
 "metadata": {
  "kernelspec": {
   "display_name": "Python 3 (ipykernel)",
   "language": "python",
   "name": "python3"
  },
  "language_info": {
   "codemirror_mode": {
    "name": "ipython",
    "version": 3
   },
   "file_extension": ".py",
   "mimetype": "text/x-python",
   "name": "python",
   "nbconvert_exporter": "python",
   "pygments_lexer": "ipython3",
   "version": "3.11.5"
  }
 },
 "nbformat": 4,
 "nbformat_minor": 5
}
