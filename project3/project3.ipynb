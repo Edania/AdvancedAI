{
 "cells": [
  {
   "cell_type": "code",
   "execution_count": 86,
   "id": "f946a369-11e7-4364-9b4e-db860578ecc4",
   "metadata": {},
   "outputs": [],
   "source": [
    "#from board import experiment\n",
    "import numpy as np\n",
    "from scipy.stats import skew, mode, skewnorm\n",
    "from sklearn.neural_network import MLPRegressor\n",
    "from sklearn.preprocessing import StandardScaler\n",
    "from tqdm import tqdm\n",
    "from tqdm.notebook import tqdm\n",
    "import matplotlib.pyplot as plt\n",
    "import seaborn as sns\n",
    "import numpy as np"
   ]
  },
  {
   "cell_type": "code",
   "execution_count": 2,
   "id": "e05bde69-e58e-44d3-a42c-a38aebc431e2",
   "metadata": {},
   "outputs": [],
   "source": [
    "#n_data = 1000 # Number of times to run the experiment\n",
    "\n",
    "#data = np.zeros((n_data, 32))\n",
    "#for i in range(0, n_data):\n",
    "#    print(f\"{i+1}/{n_data}\\r\", end=\"\")\n",
    "#    data[i,:] = experiment()\n",
    "\n",
    "#np.save(\"experiment_data.npy\", data)"
   ]
  },
  {
   "cell_type": "code",
   "execution_count": 3,
   "id": "aca53cde-a97e-47ec-aacc-21fae976d213",
   "metadata": {},
   "outputs": [],
   "source": [
    "# Loads data from experiment_data.npy file\n",
    "# Contains data for 1000 experiments\n",
    "# If we need more data I can only do it on the computers at Chalmers\n",
    "experiment_data = np.load(\"experiment_data.npy\")\n",
    "n_experiment = experiment_data.shape[0]\n",
    "\n",
    "# Dummy experiment function that reads pregenerated data\n",
    "i_experiment = 0\n",
    "def experiment():\n",
    "    global i_experiment\n",
    "    result = experiment_data[i_experiment,:]\n",
    "    i_experiment = i_experiment+1\n",
    "    if i_experiment >= n_experiment: \n",
    "        i_experiment = 0\n",
    "        print(\"Warning: reusing old experiments\")\n",
    "    return result"
   ]
  },
  {
   "cell_type": "code",
   "execution_count": 114,
   "metadata": {},
   "outputs": [],
   "source": [
    "# Simulate the experiment with known s and alpha\n",
    "def simulate_exp(alpha, s, num_rows = 31):\n",
    "    # Simulates an experiment for given alpha and s values\n",
    "    num_beads = num_rows + 1 # Number of beads at the bottom of the Galton board\n",
    "    results = np.zeros(num_beads)\n",
    "    \n",
    "    for _ in range(1000):  # Number of balls\n",
    "        M = 0  # Initial memory factor\n",
    "        pos = (num_rows) / 2  # Starting position\n",
    "        \n",
    "        # Iterate over each row of pegs\n",
    "        for ix in range(num_rows):\n",
    "            # Calculate the probability of falling right\n",
    "            P_right = 0.5 + (alpha * M + s)\n",
    "\n",
    "            # Random decision for the bead's direction\n",
    "            if np.random.uniform(0, 1) < P_right:\n",
    "                pos += 0.5  # Move right\n",
    "                M = 0.5  # Update memory factor\n",
    "            else:\n",
    "                pos -= 0.5  # Move left\n",
    "                M = -0.5  # Update memory factor\n",
    "\n",
    "        # Determine the final position of the ball\n",
    "        pos = int(np.round(pos))\n",
    "        results[pos] += 1\n",
    "\n",
    "    return results.astype(int)\n",
    "\n"
   ]
  },
  {
   "cell_type": "code",
   "execution_count": 111,
   "id": "bdd034bc-7ab3-42dd-ab7a-1f1ab2f06f4a",
   "metadata": {},
   "outputs": [],
   "source": [
    "# Generate data with known s and alpha\n",
    "X = []\n",
    "target = []\n",
    "alphas = np.linspace(0,0.5,10)\n",
    "ses = np.linspace(-0.25,0.25,10)\n",
    "for alpha in alphas:\n",
    "    for s in ses:\n",
    "        X.append(simulate_exp(alpha,s))\n",
    "        target.append([alpha,s])\n",
    "X = np.array(X)\n",
    "target = np.array(target)\n",
    "\n",
    "# Normalize data for NN\n",
    "X_scaler = StandardScaler()\n",
    "target_scaler = StandardScaler()\n",
    "X_scaler.fit(X)\n",
    "target_scaler.fit(target)\n",
    "X_norm = X_scaler.transform(X)\n",
    "target_norm = target_scaler.transform(target)\n"
   ]
  },
  {
   "cell_type": "code",
   "execution_count": 139,
   "metadata": {},
   "outputs": [
    {
     "name": "stdout",
     "output_type": "stream",
     "text": [
      "(100, 2)\n"
     ]
    },
    {
     "data": {
      "text/html": [
       "<style>#sk-container-id-8 {color: black;background-color: white;}#sk-container-id-8 pre{padding: 0;}#sk-container-id-8 div.sk-toggleable {background-color: white;}#sk-container-id-8 label.sk-toggleable__label {cursor: pointer;display: block;width: 100%;margin-bottom: 0;padding: 0.3em;box-sizing: border-box;text-align: center;}#sk-container-id-8 label.sk-toggleable__label-arrow:before {content: \"▸\";float: left;margin-right: 0.25em;color: #696969;}#sk-container-id-8 label.sk-toggleable__label-arrow:hover:before {color: black;}#sk-container-id-8 div.sk-estimator:hover label.sk-toggleable__label-arrow:before {color: black;}#sk-container-id-8 div.sk-toggleable__content {max-height: 0;max-width: 0;overflow: hidden;text-align: left;background-color: #f0f8ff;}#sk-container-id-8 div.sk-toggleable__content pre {margin: 0.2em;color: black;border-radius: 0.25em;background-color: #f0f8ff;}#sk-container-id-8 input.sk-toggleable__control:checked~div.sk-toggleable__content {max-height: 200px;max-width: 100%;overflow: auto;}#sk-container-id-8 input.sk-toggleable__control:checked~label.sk-toggleable__label-arrow:before {content: \"▾\";}#sk-container-id-8 div.sk-estimator input.sk-toggleable__control:checked~label.sk-toggleable__label {background-color: #d4ebff;}#sk-container-id-8 div.sk-label input.sk-toggleable__control:checked~label.sk-toggleable__label {background-color: #d4ebff;}#sk-container-id-8 input.sk-hidden--visually {border: 0;clip: rect(1px 1px 1px 1px);clip: rect(1px, 1px, 1px, 1px);height: 1px;margin: -1px;overflow: hidden;padding: 0;position: absolute;width: 1px;}#sk-container-id-8 div.sk-estimator {font-family: monospace;background-color: #f0f8ff;border: 1px dotted black;border-radius: 0.25em;box-sizing: border-box;margin-bottom: 0.5em;}#sk-container-id-8 div.sk-estimator:hover {background-color: #d4ebff;}#sk-container-id-8 div.sk-parallel-item::after {content: \"\";width: 100%;border-bottom: 1px solid gray;flex-grow: 1;}#sk-container-id-8 div.sk-label:hover label.sk-toggleable__label {background-color: #d4ebff;}#sk-container-id-8 div.sk-serial::before {content: \"\";position: absolute;border-left: 1px solid gray;box-sizing: border-box;top: 0;bottom: 0;left: 50%;z-index: 0;}#sk-container-id-8 div.sk-serial {display: flex;flex-direction: column;align-items: center;background-color: white;padding-right: 0.2em;padding-left: 0.2em;position: relative;}#sk-container-id-8 div.sk-item {position: relative;z-index: 1;}#sk-container-id-8 div.sk-parallel {display: flex;align-items: stretch;justify-content: center;background-color: white;position: relative;}#sk-container-id-8 div.sk-item::before, #sk-container-id-8 div.sk-parallel-item::before {content: \"\";position: absolute;border-left: 1px solid gray;box-sizing: border-box;top: 0;bottom: 0;left: 50%;z-index: -1;}#sk-container-id-8 div.sk-parallel-item {display: flex;flex-direction: column;z-index: 1;position: relative;background-color: white;}#sk-container-id-8 div.sk-parallel-item:first-child::after {align-self: flex-end;width: 50%;}#sk-container-id-8 div.sk-parallel-item:last-child::after {align-self: flex-start;width: 50%;}#sk-container-id-8 div.sk-parallel-item:only-child::after {width: 0;}#sk-container-id-8 div.sk-dashed-wrapped {border: 1px dashed gray;margin: 0 0.4em 0.5em 0.4em;box-sizing: border-box;padding-bottom: 0.4em;background-color: white;}#sk-container-id-8 div.sk-label label {font-family: monospace;font-weight: bold;display: inline-block;line-height: 1.2em;}#sk-container-id-8 div.sk-label-container {text-align: center;}#sk-container-id-8 div.sk-container {/* jupyter's `normalize.less` sets `[hidden] { display: none; }` but bootstrap.min.css set `[hidden] { display: none !important; }` so we also need the `!important` here to be able to override the default hidden behavior on the sphinx rendered scikit-learn.org. See: https://github.com/scikit-learn/scikit-learn/issues/21755 */display: inline-block !important;position: relative;}#sk-container-id-8 div.sk-text-repr-fallback {display: none;}</style><div id=\"sk-container-id-8\" class=\"sk-top-container\"><div class=\"sk-text-repr-fallback\"><pre>MLPRegressor(alpha=1e-05, hidden_layer_sizes=(64, 64, 64, 64), max_iter=1000,\n",
       "             random_state=1, solver=&#x27;lbfgs&#x27;)</pre><b>In a Jupyter environment, please rerun this cell to show the HTML representation or trust the notebook. <br />On GitHub, the HTML representation is unable to render, please try loading this page with nbviewer.org.</b></div><div class=\"sk-container\" hidden><div class=\"sk-item\"><div class=\"sk-estimator sk-toggleable\"><input class=\"sk-toggleable__control sk-hidden--visually\" id=\"sk-estimator-id-8\" type=\"checkbox\" checked><label for=\"sk-estimator-id-8\" class=\"sk-toggleable__label sk-toggleable__label-arrow\">MLPRegressor</label><div class=\"sk-toggleable__content\"><pre>MLPRegressor(alpha=1e-05, hidden_layer_sizes=(64, 64, 64, 64), max_iter=1000,\n",
       "             random_state=1, solver=&#x27;lbfgs&#x27;)</pre></div></div></div></div></div>"
      ],
      "text/plain": [
       "MLPRegressor(alpha=1e-05, hidden_layer_sizes=(64, 64, 64, 64), max_iter=1000,\n",
       "             random_state=1, solver='lbfgs')"
      ]
     },
     "execution_count": 139,
     "metadata": {},
     "output_type": "execute_result"
    }
   ],
   "source": [
    "# Train a neural network model on experiment data, might want to do cross val?\n",
    "print(target.shape)\n",
    "rgs = MLPRegressor( alpha=1e-5,random_state=1, hidden_layer_sizes=(64,64,64,64), solver='lbfgs', max_iter=1000)\n",
    "\n",
    "rgs.fit(X_norm,target_norm)"
   ]
  },
  {
   "cell_type": "code",
   "execution_count": 140,
   "metadata": {},
   "outputs": [
    {
     "name": "stdout",
     "output_type": "stream",
     "text": [
      "[[0.49977839 0.24986892]]\n"
     ]
    }
   ],
   "source": [
    "# Testing if the predictions seem ok\n",
    "ret = rgs.predict(X_norm[-1,:].reshape(1,-1))\n",
    "print(target_scaler.inverse_transform(ret))"
   ]
  },
  {
   "cell_type": "code",
   "execution_count": 157,
   "id": "1f44208d-3a28-45aa-a0bd-d40ec23210ac",
   "metadata": {},
   "outputs": [],
   "source": [
    "# Transforms the frequencies to a list of repeated numbers, to calculate summary statistics\n",
    "def freq_to_count(y):\n",
    "    y_list = []\n",
    "    for i in range(len(y)):\n",
    "        y_list += y[i]*[i]  \n",
    "    return y_list \n",
    "\n",
    "def summary_statistics(data):\n",
    "    # Some summary statistics. Skew gives some kind of distribution atleast, see plot in last cell\n",
    "    mean = np.mean(data)\n",
    "    var = np.var(data)\n",
    "    skewness = skew(data)\n",
    "    #mode_value = np.max(data)\n",
    "    mode_value = mode(data, keepdims=True).mode[0]\n",
    "    #print(mode(data).mode)\n",
    "    return np.array([mean, var, skewness, mode_value])\n",
    "\n",
    "def gaussian_kernel(dist, h):\n",
    "    return np.exp(-dist**2 / (2 * h**2))\n",
    "\n",
    "def biweight_kernel(dist, h):\n",
    "    if abs(dist) <= h:\n",
    "        return 15/16 * ((1 - (dist / h) ** 2) ** 2)\n",
    "    else:\n",
    "        return 0\n",
    "\n",
    "def abc_rejection_sampling(data_obs, h, num_simulations=10, rgs = None, prior = None, repeats=0):\n",
    "    accepted_alphas = []\n",
    "    random_s = []\n",
    "    acceptance_ratios = []\n",
    "    \n",
    "    # Sets the first normal distribution, large var to approach uniform dist.\n",
    "    if prior == None:\n",
    "        mean_val = 0.25\n",
    "        var_val = 10\n",
    "        skew_val = 0\n",
    "        #prior = uniform(a=0,b=0.5)\n",
    "    else:\n",
    "        [mean_val, var_val, skew_val, mode_val] = summary_statistics(prior)\n",
    "    \n",
    "    # Loop over the number of simulations\n",
    "    for ix in tqdm(range(repeats)):\n",
    "        tmp_accepted_alphas = []\n",
    "        tmp_random_s = []\n",
    "        for jx in tqdm(range(num_simulations)):\n",
    "            observed_exp = experiment().astype(int)  # Generate experiment data, see code above\n",
    "            observed_exp_list = freq_to_count(observed_exp)\n",
    "            \n",
    "            # alpha governs the variance\n",
    "            ss_obs = summary_statistics(observed_exp_list)[1]\n",
    "        \n",
    "            # Randomly sample alpha, within bounds\n",
    "            alpha = 1\n",
    "            while alpha < 0 or alpha > 0.5:\n",
    "                alpha = skewnorm.rvs(a=skew_val,loc=mean_val,scale=var_val)\n",
    "            \n",
    "            # Uses ML model if available, otherwise random uniform\n",
    "            if rgs != None:\n",
    "                observed_exp = observed_exp.reshape(1,-1)\n",
    "                observed_exp = X_scaler.transform(observed_exp)\n",
    "                ret = rgs.predict(observed_exp)\n",
    "                ret = target_scaler.inverse_transform(ret)\n",
    "                s = ret[0,1]\n",
    "            else:\n",
    "                s = np.random.uniform(-0.25, 0.25)\n",
    "            tmp_random_s.append(s)\n",
    "\n",
    "            # Simulate an experiment with the sampled parameters\n",
    "            sim_exp = simulate_exp(alpha, s)\n",
    "            sim_exp_list = freq_to_count(sim_exp)\n",
    "            ss_exp = summary_statistics(sim_exp_list)[1]\n",
    "\n",
    "            dist = ss_obs - ss_exp\n",
    "            \n",
    "            # Calculate kernel\n",
    "            w = biweight_kernel(dist, h)\n",
    "            \n",
    "            # If w is higher than a random threshold, accept alpha\n",
    "            if w > np.random.uniform(0, 1):\n",
    "                tmp_accepted_alphas.append(alpha)\n",
    "        \n",
    "        # Use the accepted alphas to create a prior, assumed skewed normal\n",
    "        [mean_val, var_val, skew_val, mode_val] = summary_statistics(tmp_accepted_alphas)\n",
    "        print(var_val)\n",
    "        acceptance_ratio = len(tmp_accepted_alphas)/num_simulations\n",
    "        acceptance_ratios.append(acceptance_ratio)\n",
    "        accepted_alphas.append(tmp_accepted_alphas)\n",
    "        random_s.append(tmp_random_s)\n",
    "\n",
    "        # The acceptance ratio should probabli be aroun 50%\n",
    "        print(f\"Accepted: {acceptance_ratio*100}%\")\n",
    "\n",
    "\n",
    "    return accepted_alphas, acceptance_ratio, random_s\n"
   ]
  },
  {
   "cell_type": "code",
   "execution_count": 118,
   "id": "bd379363-d53b-4919-9023-8ee0002f8498",
   "metadata": {},
   "outputs": [
    {
     "name": "stdout",
     "output_type": "stream",
     "text": [
      "Mean var skew mode\n",
      "[15.469       7.643039    0.03199636 17.        ]\n"
     ]
    },
    {
     "data": {
      "text/plain": [
       "Text(0, 0.5, 'freq.')"
      ]
     },
     "execution_count": 118,
     "metadata": {},
     "output_type": "execute_result"
    },
    {
     "data": {
      "image/png": "[encoded data removed]",
      "text/plain": [
       "<Figure size 640x480 with 1 Axes>"
      ]
     },
     "metadata": {},
     "output_type": "display_data"
    }
   ],
   "source": [
    "y = simulate_exp(0, 0)\n",
    "y_list = freq_to_count(y)\n",
    "#print(y_list)\n",
    "print(\"Mean var skew mode\")\n",
    "print(summary_statistics(y_list))\n",
    "x = experiment_data[0]\n",
    "plt.hist(y_list, bins = 32)\n",
    "plt.xlim(0,31)\n",
    "plt.xlabel('bead no.')\n",
    "plt.ylabel('freq.')"
   ]
  },
  {
   "cell_type": "code",
   "execution_count": 159,
   "id": "2a3373de-9352-48d7-ad91-93b96d75f123",
   "metadata": {},
   "outputs": [
    {
     "name": "stdout",
     "output_type": "stream",
     "text": [
      "1000\n"
     ]
    },
    {
     "data": {
      "application/vnd.jupyter.widget-view+json": {
       "model_id": "affcb879f1f64f1182a47860983ec81b",
       "version_major": 2,
       "version_minor": 0
      },
      "text/plain": [
       "  0%|          | 0/4 [00:00<?, ?it/s]"
      ]
     },
     "metadata": {},
     "output_type": "display_data"
    },
    {
     "data": {
      "application/vnd.jupyter.widget-view+json": {
       "model_id": "6181476e3fd2480991de832c6e5df721",
       "version_major": 2,
       "version_minor": 0
      },
      "text/plain": [
       "  0%|          | 0/100 [00:00<?, ?it/s]"
      ]
     },
     "metadata": {},
     "output_type": "display_data"
    },
    {
     "name": "stdout",
     "output_type": "stream",
     "text": [
      "0.0048698191527712514\n",
      "Accepted: 15.0%\n"
     ]
    },
    {
     "data": {
      "application/vnd.jupyter.widget-view+json": {
       "model_id": "a8af8742f82c4ffba0168c7c71c78b38",
       "version_major": 2,
       "version_minor": 0
      },
      "text/plain": [
       "  0%|          | 0/100 [00:00<?, ?it/s]"
      ]
     },
     "metadata": {},
     "output_type": "display_data"
    },
    {
     "name": "stdout",
     "output_type": "stream",
     "text": [
      "1.0810207091017218e-05\n",
      "Accepted: 36.0%\n"
     ]
    },
    {
     "data": {
      "application/vnd.jupyter.widget-view+json": {
       "model_id": "9e5abf6b32b842f5a27f6fb6d8c763b8",
       "version_major": 2,
       "version_minor": 0
      },
      "text/plain": [
       "  0%|          | 0/100 [00:00<?, ?it/s]"
      ]
     },
     "metadata": {},
     "output_type": "display_data"
    },
    {
     "name": "stdout",
     "output_type": "stream",
     "text": [
      "9.838538357799712e-11\n",
      "Accepted: 34.0%\n"
     ]
    },
    {
     "data": {
      "application/vnd.jupyter.widget-view+json": {
       "model_id": "d0bc963624824a80a4e1607f355294d8",
       "version_major": 2,
       "version_minor": 0
      },
      "text/plain": [
       "  0%|          | 0/100 [00:00<?, ?it/s]"
      ]
     },
     "metadata": {},
     "output_type": "display_data"
    },
    {
     "name": "stdout",
     "output_type": "stream",
     "text": [
      "9.291255054217284e-21\n",
      "Accepted: 50.0%\n"
     ]
    }
   ],
   "source": [
    "i_experiment = 0\n",
    "num_simulations = 100\n",
    "# Since the variance is used, h needs to be in scale of \"number of beads off in the variance\"\n",
    "h = 1\n",
    "repeats = 4\n",
    "print(len(experiment_data))\n",
    "\n",
    "accepted_alphas, acc_ratios, proposed_ses = abc_rejection_sampling(experiment_data, h, num_simulations, \n",
    "                                                                              rgs=rgs, repeats = repeats)"
   ]
  },
  {
   "cell_type": "code",
   "execution_count": 160,
   "id": "f8795672-5d9a-4c06-ad80-4411949fe44e",
   "metadata": {},
   "outputs": [
    {
     "data": {
      "text/plain": [
       "<function matplotlib.pyplot.show(close=None, block=None)>"
      ]
     },
     "execution_count": 160,
     "metadata": {},
     "output_type": "execute_result"
    },
    {
     "data": {
      "image/png": "[encoded data removed]",
      "text/plain": [
       "<Figure size 640x480 with 1 Axes>"
      ]
     },
     "metadata": {},
     "output_type": "display_data"
    }
   ],
   "source": [
    "for i in range(repeats):\n",
    "    plt.hist(accepted_alphas[i], bins = 30, edgecolor = 'black', alpha = 0.7)\n",
    "plt.xlabel('alpha')\n",
    "plt.ylabel('Frequency')\n",
    "plt.show"
   ]
  },
  {
   "cell_type": "code",
   "execution_count": null,
   "metadata": {},
   "outputs": [],
   "source": []
  }
 ],
 "metadata": {
  "kernelspec": {
   "display_name": "Python 3 (ipykernel)",
   "language": "python",
   "name": "python3"
  },
  "language_info": {
   "codemirror_mode": {
    "name": "ipython",
    "version": 3
   },
   "file_extension": ".py",
   "mimetype": "text/x-python",
   "name": "python",
   "nbconvert_exporter": "python",
   "pygments_lexer": "ipython3",
   "version": "3.11.5"
  }
 },
 "nbformat": 4,
 "nbformat_minor": 5
}
