{
 "cells": [
  {
   "cell_type": "code",
   "execution_count": 20,
   "id": "f946a369-11e7-4364-9b4e-db860578ecc4",
   "metadata": {},
   "outputs": [],
   "source": [
    "#from board import experiment\n",
    "import numpy as np\n",
    "from scipy.stats import skew, mode\n",
    "from tqdm import tqdm\n",
    "from tqdm.notebook import tqdm\n",
    "import matplotlib.pyplot as plt\n",
    "import seaborn as sns\n",
    "import numpy as np"
   ]
  },
  {
   "cell_type": "code",
   "execution_count": 2,
   "id": "e05bde69-e58e-44d3-a42c-a38aebc431e2",
   "metadata": {},
   "outputs": [],
   "source": [
    "#n_data = 1000 # Number of times to run the experiment\n",
    "\n",
    "#data = np.zeros((n_data, 32))\n",
    "#for i in range(0, n_data):\n",
    "#    print(f\"{i+1}/{n_data}\\r\", end=\"\")\n",
    "#    data[i,:] = experiment()\n",
    "\n",
    "#np.save(\"experiment_data.npy\", data)"
   ]
  },
  {
   "cell_type": "code",
   "execution_count": 71,
   "id": "aca53cde-a97e-47ec-aacc-21fae976d213",
   "metadata": {},
   "outputs": [],
   "source": [
    "# Loads data from experiment_data.npy file\n",
    "# Contains data for 1000 experiments\n",
    "# If we need more data I can only do it on the computers at Chalmers\n",
    "experiment_data = np.load(\"experiment_data.npy\")\n",
    "n_experiment = experiment_data.shape[0]\n",
    "\n",
    "# Dummy experiment function that reads pregenerated data\n",
    "i_experiment = 0\n",
    "def experiment():\n",
    "    global i_experiment\n",
    "    result = experiment_data[i_experiment,:]\n",
    "    i_experiment = i_experiment+1\n",
    "    if i_experiment >= n_experiment: \n",
    "        i_experiment = 0\n",
    "        print(\"Warning: reusing old experiments\")\n",
    "    return result"
   ]
  },
  {
   "cell_type": "code",
   "execution_count": 72,
   "id": "1f44208d-3a28-45aa-a0bd-d40ec23210ac",
   "metadata": {},
   "outputs": [],
   "source": [
    "def summary_statistics(data):\n",
    "    # Some summary statistics. Skew gives some kind of distribution atleast, see plot in last cell\n",
    "    mean = np.mean(data)\n",
    "    var = np.var(data)\n",
    "    skewness = skew(data)\n",
    "    mode_value = mode(data).mode[0]\n",
    "\n",
    "    return np.array([mean, var, skewness, mode_value])\n",
    "\n",
    "def gaussian_kernel(dist, h):\n",
    "    return np.exp(-dist**2 / (2 * h**2))\n",
    "\n",
    "def biweight_kernel(dist, h):\n",
    "    if abs(dist) <= h:\n",
    "        return 15/16 * ((1 - (dist / h) ** 2) ** 2)\n",
    "    else:\n",
    "        return 0\n",
    "\n",
    "def simulate_exp(alpha, s, num_rows = 31):\n",
    "    # Simulates an experiment for given alpha and s values\n",
    "    num_beads = num_rows + 1 # Number of beads at the bottom of the Galton board\n",
    "    results = np.zeros(num_beads)\n",
    "    \n",
    "    for _ in range(1000):  # Number of balls\n",
    "        M = 0  # Initial memory factor\n",
    "        pos = (num_rows) / 2  # Starting position\n",
    "        \n",
    "        # Iterate over each row of pegs\n",
    "        for ix in range(num_rows):\n",
    "            # Calculate the probability of falling right\n",
    "            P_right = 0.5 + (alpha * M + s)\n",
    "\n",
    "            # Random decision for the bead's direction\n",
    "            if np.random.uniform(0, 1) < P_right:\n",
    "                pos += 0.5  # Move right\n",
    "                M = 0.5  # Update memory factor\n",
    "            else:\n",
    "                pos -= 0.5  # Move left\n",
    "                M = -0.5  # Update memory factor\n",
    "\n",
    "        # Determine the final position of the ball\n",
    "        pos = int(np.round(pos))\n",
    "        results[pos] += 1\n",
    "\n",
    "    return results\n",
    "\n",
    "def abc_rejection_sampling(data_obs, h, num_simulations=10):\n",
    "    accepted_alphas = []\n",
    "    # Loop over the number of simulations\n",
    "    for ix in tqdm(range(num_simulations)):\n",
    "        # Iterate through each experiment in the observed data\n",
    "        for jx in range(len(data_obs)):\n",
    "            observed_exp = experiment()  # Generate experiment data, see code above\n",
    "            ss_obs = summary_statistics(observed_exp)[2]\n",
    "        \n",
    "            # Randomly sample alpha and s\n",
    "            alpha = np.random.uniform(0, 0.5)\n",
    "            s = np.random.uniform(-0.25, 0.25)\n",
    "        \n",
    "            # Simulate an experiment with the sampled parameters\n",
    "            sim_exp = simulate_exp(alpha, s)\n",
    "            ss_exp = summary_statistics(sim_exp)[2]\n",
    "\n",
    "            dist = ss_obs - ss_exp\n",
    "\n",
    "            # Calculate kernel\n",
    "            w = biweight_kernel(dist, h)\n",
    "            \n",
    "            # If w is higher than a random threshold, accept alpha\n",
    "            if w > np.random.uniform(0, 1):\n",
    "                accepted_alphas.append(alpha)\n",
    "    return accepted_alphas\n"
   ]
  },
  {
   "cell_type": "code",
   "execution_count": 69,
   "id": "bd379363-d53b-4919-9023-8ee0002f8498",
   "metadata": {},
   "outputs": [
    {
     "data": {
      "text/plain": [
       "Text(0, 0.5, 'freq.')"
      ]
     },
     "execution_count": 69,
     "metadata": {},
     "output_type": "execute_result"
    },
    {
     "data": {
      "image/png": "[encoded data removed]",
      "text/plain": [
       "<Figure size 640x480 with 1 Axes>"
      ]
     },
     "metadata": {},
     "output_type": "display_data"
    }
   ],
   "source": [
    "s = simulate_exp(0, 0.)\n",
    "x = experiment_data[0]\n",
    "plt.plot(s)\n",
    "plt.xlabel('bead no.')\n",
    "plt.ylabel('freq.')"
   ]
  },
  {
   "cell_type": "code",
   "execution_count": 41,
   "id": "2a3373de-9352-48d7-ad91-93b96d75f123",
   "metadata": {},
   "outputs": [
    {
     "name": "stdout",
     "output_type": "stream",
     "text": [
      "1000\n"
     ]
    },
    {
     "data": {
      "application/vnd.jupyter.widget-view+json": {
       "model_id": "c41083977e9640a3ab30f0b57cb1585d",
       "version_major": 2,
       "version_minor": 0
      },
      "text/plain": [
       "  0%|          | 0/20 [00:00<?, ?it/s]"
      ]
     },
     "metadata": {},
     "output_type": "display_data"
    },
    {
     "name": "stderr",
     "output_type": "stream",
     "text": [
      "/var/folders/61/lqmc5d7s7qv5yywzjmbds8v80000gn/T/ipykernel_3100/636044804.py:5: FutureWarning: Unlike other reduction functions (e.g. `skew`, `kurtosis`), the default behavior of `mode` typically preserves the axis it acts along. In SciPy 1.11.0, this behavior will change: the default value of `keepdims` will become False, the `axis` over which the statistic is taken will be eliminated, and the value None will no longer be accepted. Set `keepdims` to True or False to avoid this warning.\n",
      "  mode_value = mode(data).mode[0]\n"
     ]
    },
    {
     "name": "stdout",
     "output_type": "stream",
     "text": [
      "Warning: reusing old experiments\n",
      "Warning: reusing old experiments\n",
      "Warning: reusing old experiments\n",
      "Warning: reusing old experiments\n",
      "Warning: reusing old experiments\n",
      "Warning: reusing old experiments\n",
      "Warning: reusing old experiments\n",
      "Warning: reusing old experiments\n",
      "Warning: reusing old experiments\n",
      "Warning: reusing old experiments\n",
      "Warning: reusing old experiments\n",
      "Warning: reusing old experiments\n",
      "Warning: reusing old experiments\n",
      "Warning: reusing old experiments\n",
      "Warning: reusing old experiments\n",
      "Warning: reusing old experiments\n",
      "Warning: reusing old experiments\n",
      "Warning: reusing old experiments\n",
      "Warning: reusing old experiments\n",
      "Warning: reusing old experiments\n"
     ]
    }
   ],
   "source": [
    "i_experiment = 0\n",
    "num_simulations = 20\n",
    "h = 0.1\n",
    "print(len(experiment_data))\n",
    "accepted_alphas_skew_biweight = abc_rejection_sampling(experiment_data, h, num_simulations)"
   ]
  },
  {
   "cell_type": "code",
   "execution_count": 76,
   "id": "f8795672-5d9a-4c06-ad80-4411949fe44e",
   "metadata": {},
   "outputs": [
    {
     "name": "stdout",
     "output_type": "stream",
     "text": [
      "2222\n"
     ]
    },
    {
     "data": {
      "text/plain": [
       "<function matplotlib.pyplot.show(close=None, block=None)>"
      ]
     },
     "execution_count": 76,
     "metadata": {},
     "output_type": "execute_result"
    },
    {
     "data": {
      "image/png": "[encoded data removed]",
      "text/plain": [
       "<Figure size 640x480 with 1 Axes>"
      ]
     },
     "metadata": {},
     "output_type": "display_data"
    }
   ],
   "source": [
    "print(len(accepted_alphas_skew_biweight))\n",
    "plt.hist(accepted_alphas_skew_biweight, bins = 30, edgecolor = 'black', alpha = 0.7)\n",
    "plt.xlabel('alpha')\n",
    "plt.ylabel('Frequency')\n",
    "plt.show"
   ]
  },
  {
   "cell_type": "code",
   "execution_count": null,
   "id": "bdd034bc-7ab3-42dd-ab7a-1f1ab2f06f4a",
   "metadata": {},
   "outputs": [],
   "source": []
  }
 ],
 "metadata": {
  "kernelspec": {
   "display_name": "Python 3 (ipykernel)",
   "language": "python",
   "name": "python3"
  },
  "language_info": {
   "codemirror_mode": {
    "name": "ipython",
    "version": 3
   },
   "file_extension": ".py",
   "mimetype": "text/x-python",
   "name": "python",
   "nbconvert_exporter": "python",
   "pygments_lexer": "ipython3",
   "version": "3.8.18"
  }
 },
 "nbformat": 4,
 "nbformat_minor": 5
}
