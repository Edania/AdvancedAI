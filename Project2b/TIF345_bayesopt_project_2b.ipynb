{
 "cells": [
  {
   "cell_type": "markdown",
   "metadata": {},
   "source": [
    "# Bayesian Optimization: Searching for the global minima\n",
    "**You should hand in a report, via Canvas, maximum 6 pages (excluding references). \n",
    "Do not attach any appendices. In the report you should present your data, models and the final results.\n",
    "Do not forget to visualize your data and results.\n",
    "It is important that you discuss your findings and reflect on the results.\n",
    "In addition you need to hand in your Python code.\n",
    "The code itself will not be graded, but it should run without errors and upon inspection reproduce the main results you present in the report.\n",
    "Emphasis will be put on your ability to use appropriate terminology to describe and discuss the employed statistical methodologies and results.**\n",
    "\n",
    "**<font color=red>DEADLINE: Dec 5 (Tuesday), 23:59</font>**\n",
    "\n",
    "## Background\n",
    "In this project you will explore and search the potential energy surface (PES) for an Au atom placed on top of a Au surface.\n",
    "We will use a gold surface with Miller indices (433), which is so-called vicinal surface, corresponding to stepped (111) surface.\n",
    "The Au atom  placed ontop of the surface is refered to as an ad-atom.\n",
    "\n",
    "<img src=\"images/surface_433.png\" alt=\"Drawing\" style=\"width: 850px;\"/>\n",
    "\n",
    "Here the left image shows a side view of the surface with the ad-atom colored in red.\n",
    "The right image shows the top view ($z$-direction) of the surface with the primitive cell marked as the smaller rectangle drawn in black.\n",
    "\n",
    "Finding the position of the ad-atom with the lowest energy is a difficult problem as there are multiple local minima in the PES.\n",
    "Furthermore, evaluating the potential energy is commonly done with density functional theory (DFT) which is very computationally expensive and hence it is desirable to keep the number of potential energy calculations as low as possible.\n",
    "To tackle these two problems we will employ Bayesian optimization using Gaussian Processes.\n",
    "\n",
    "Additional information on a very similar task can be found in the [paper by Todorovic *et al.*](https://doi.org/10.1038/s41524-019-0175-2), a copy of which (`Todorovic-2019.pdf` is included in this directory).\n",
    "\n",
    "## Atomstic structure\n",
    "Here, instead of DFT, we will use an embedded medium theory calculator which is provided in [`ase`](https://wiki.fysik.dtu.dk/ase/index.html) or [`asap`](https://wiki.fysik.dtu.dk/asap).\n",
    "You are given a atomistic surface in `structures/surface_supercell.xyz`, which can be read as\n",
    "``` python\n",
    "from ase.io import read\n",
    "surface = read('structures/surface_supercell.xyz')\n",
    "```\n",
    "When searching for the optimal location of the ad-atom we only need to consider positions inside the primitive cell since the PES will be repeating itself if we move outside the primitive cell.\n",
    "We therefore only consider position in the domain\n",
    "\\begin{equation}\n",
    "0 < x < 16.65653 \\quad  \\land \\quad 0 < y < 2.884996\n",
    "\\end{equation}\n",
    "\n",
    "\n",
    "## Evaluating the PES\n",
    "The ad-atom energy of interest, $E$, is defined as by\n",
    "\\begin{equation}\n",
    "E = E_\\text{ad} - E_\\text{surface},\n",
    "\\end{equation}\n",
    "where $E_\\text{ad}$ is the potential energy of the system with the ad-atom present and $E_\\text{surface}$ the energy of just the bare surface system.\n",
    "When evaluating the PES, we consider the surface to be completly rigid and only allow the ad-atom to move.\n",
    "The energy can thus be written as \n",
    "\\begin{equation}\n",
    "E = E(x,y,z),\n",
    "\\end{equation}\n",
    "where $(x,y,z)$ corresponds to the position of the ad-atom.\n",
    "Here, we will allow the $z$-coordinate of the ad-atom to relax to its local minima (given $x$ and $y$) and thus only consider the $x-y$ dependency of the energy, meaning we write the energy $E$ as\n",
    "\\begin{equation}\n",
    "E(x, y) = \\min_z E(x, y, z).\n",
    "\\end{equation}\n",
    "The primary goal of this project is to find the global minimum of the function $E(x, y)$ in as few evaluations of $E(x, y)$ as possible.\n",
    "\n",
    "\n",
    "## Bayesian Optimization\n",
    "To this end, we turn to Bayesian optimization using Gaussian processes (GPs).\n",
    "The idea is to iteratively train a GP to model the energy, $E(x, y)$, and use it to suggest new possible samples.\n",
    "\n",
    "Let $\\mathbf{X}$ be an array of shape $(N, 2)$ containing $(x, y)$ points as rows and $\\boldsymbol{E}$ an array of length $N$ with energies corresponding to $E(x,y)$ for each point in $\\mathbf{X}$.\n",
    "First we construct an initial model from a few randomly drawn samples $\\mathbf{X}$ and their corresponding energies $\\boldsymbol{E}$.       \n",
    "This allows us to train a GP for the given $\\mathbf{X}$ and $\\boldsymbol{E}$, which provides both an average value $\\mu$ and a standard deviation $\\sigma$ for the energy at $(x, y)$.\n",
    "\n",
    "The next step is to select a new point $(x_\\text{new},y_\\text{new})$ for sampling.\n",
    "This is done by finding the point $(x_\\text{new},y_\\text{new})$ in the domain that maximizes the so-called acquisition function $A(x, y)$.\n",
    "In this project, we recommend using the lower confidence  bound (LCB) acquisition function, which is defined as \n",
    "\\begin{equation}\n",
    "A(x, y) = -\\mu (x, y) + \\beta \\sigma (x,y).\n",
    "\\end{equation}\n",
    "Here, $\\beta$ is a hyperparameter that can be chosen approximately from the range 1 to 5.\n",
    "A large value of $\\beta$ will favor more exploration whereas a smaller value will lead to more exploitation.\n",
    "* **Exploitation:** Search regions with low mean (low energy)\n",
    "* **Exploration:** Search regions with high uncertainty/variance\n",
    "You can also adaptively adjust $\\beta$ during the Bayesian optimization.\n",
    "Can you think of suitable protocols?\n",
    "\n",
    "A new data point can thus be selected by\n",
    "\\begin{equation}\n",
    "(x_\\text{new}, y_\\text{new}) = \\arg \\max_{x, y} A(x, y)\n",
    "\\end{equation}\n",
    "Next the energy at this new point, $E(x_\\text{new}, y_\\text{new})$, is evaluated and added to our samples $\\mathbf{X}$ and $\\boldsymbol{E}$.\n",
    "This allows a new GP model to be trained and we can iterate through this procedure until convergence is (hopefully) reached.\n",
    "\n",
    "\n",
    "## GPy optimization\n",
    "Setting up your GP model can be achieved using a snippet such as the following\n",
    "```python\n",
    "k1 = GPy.kern.RBF(input_dim=2)\n",
    "k2 = GPy.kern.Bias(input_dim=2)\n",
    "kernel = k1 + k2\n",
    "model = GPy.models.GPRegression(x_data, y_data, kernel)\n",
    "model.optimize()\n",
    "print(model)\n",
    "```\n",
    "Where `model.optimize` will find the variance, length scale and bias that maximizes the log-likelihood for the GP.\n",
    "The log-likelihood may be very flat or contain multiple local minima.\n",
    "In case you end up with strange parameters (such as the lengthscale being $10^{-10}$ or $10^{10}$), it can help to rerun the optimization a few times which can automatically be done via\n",
    "``` python\n",
    "model.optimize_restarts()\n",
    "```\n",
    "Additionaly, it might help to put some reasonable constraints on the parameters, via\n",
    "```python\n",
    "k1 = GPy.kern.RBF(input_dim=2)\n",
    "k1['lengthscale'].constrain_bounded(0.1, 5)\n",
    "```\n",
    "Instead of strict constraints, one can also set priors over the parameters via, e.g.,\n",
    "``` python\n",
    "k1 = GPy.kern.RBF(input_dim=2)\n",
    "k1['lengthscale'].set_prior(GPy.priors.Gamma(a=2, b=1))\n",
    "```"
   ]
  },
  {
   "cell_type": "markdown",
   "metadata": {},
   "source": [
    "## Helper function for z-relaxation\n",
    "Below is a helper function that you can use to carry out the relaxation over $z$.\n",
    "It might be helpful to also define a function only taking $(x, y)$ as argument and setting $z$ to, e.g.,\n",
    "```python\n",
    "z = surface.positions[:, 2].max() + 3\n",
    "```\n",
    "to make sure the ad-atom sits on top of the surface, and then pass $(x,y,z)$ into `calculate_adatom_energy`."
   ]
  },
  {
   "cell_type": "code",
   "execution_count": 1,
   "metadata": {},
   "outputs": [],
   "source": [
    "from ase.constraints import FixAtoms, FixedLine\n",
    "from ase.optimize import BFGS\n",
    "from ase import Atom\n",
    "from asap3 import EMT\n",
    "# from ase.calculators.emt import EMT\n",
    "\n",
    "\n",
    "def calculate_adatom_energy(surface, position):\n",
    "    \"\"\"Adds adatom to the input surface configuration at the given position\n",
    "    and relaxes the ad-atoms z-cooridnate.\n",
    "\n",
    "    Parameters\n",
    "    ----------\n",
    "    bare_surface\n",
    "        surface configuration without adatom\n",
    "    position\n",
    "        position (x, y, z) at which to insert adatom in Ångström\n",
    "\n",
    "    Returns\n",
    "    -------\n",
    "    tuple comprising the energy of the adatom configuration\n",
    "    \"\"\"\n",
    "    # add adatom\n",
    "    surface_with_adatom = surface.copy()\n",
    "    surface_with_adatom.append(Atom('Au', position))\n",
    "\n",
    "    # attach calculator\n",
    "    calc = EMT()\n",
    "    surface_with_adatom.set_calculator(calc)\n",
    "\n",
    "    # apply constraints\n",
    "    constraints = []\n",
    "    c = FixAtoms(indices=list(range(len(surface_with_adatom) - 1)))\n",
    "    constraints.append(c)\n",
    "    c = FixedLine(-1, [0, 0, 1])\n",
    "    constraints.append(c)\n",
    "\n",
    "    # relax configuration\n",
    "    surface_with_adatom.set_constraint(constraints)\n",
    "    dyn = BFGS(surface_with_adatom, logfile=None)\n",
    "    dyn.run(fmax=0.02, steps=200)\n",
    "\n",
    "    energy = surface_with_adatom.get_potential_energy()\n",
    "    return energy"
   ]
  },
  {
   "cell_type": "code",
   "execution_count": 2,
   "metadata": {},
   "outputs": [],
   "source": [
    "def calculate_energy(surface, position, ad_atom):\n",
    "    \"\"\"Adds adatom to the input surface configuration at the given position\n",
    "    and relaxes the ad-atoms z-cooridnate.\n",
    "\n",
    "    Parameters\n",
    "    ----------\n",
    "    bare_surface\n",
    "        surface configuration without adatom\n",
    "    position\n",
    "        position (x, y, z) at which to insert adatom in Ångström\n",
    "\n",
    "    Returns\n",
    "    -------\n",
    "    tuple comprising the energy of the adatom configuration\n",
    "    \"\"\"\n",
    "    \n",
    "    surface = surface.copy()\n",
    "    if ad_atom:\n",
    "        surface.append(Atom('Au', position))\n",
    "\n",
    "    # attach calculator\n",
    "    calc = EMT()\n",
    "    surface.set_calculator(calc)\n",
    "\n",
    "    # apply constraints\n",
    "    constraints = []\n",
    "    c = FixAtoms(indices=list(range(len(surface) - 1)))\n",
    "    constraints.append(c)\n",
    "    c = FixedLine(-1, [0, 0, 1])\n",
    "    constraints.append(c)\n",
    "\n",
    "    # relax configuration\n",
    "    surface.set_constraint(constraints)\n",
    "    dyn = BFGS(surface, logfile=None)\n",
    "    dyn.run(fmax=0.02, steps=200)\n",
    "\n",
    "    energy = surface.get_potential_energy()\n",
    "    return energy"
   ]
  },
  {
   "cell_type": "markdown",
   "metadata": {},
   "source": [
    "## Setup\n",
    "In this project you will need [`ase`](https://wiki.fysik.dtu.dk/ase/index.html), [`asap`](https://wiki.fysik.dtu.dk/asap) and [`GPy`](https://sheffieldml.github.io/GPy/)."
   ]
  },
  {
   "cell_type": "code",
   "execution_count": 3,
   "metadata": {},
   "outputs": [],
   "source": [
    "import ase\n",
    "import asap3\n",
    "import GPy\n",
    "\n",
    "import numpy as np\n",
    "import matplotlib.pyplot as plt\n",
    "from scipy.optimize import minimize\n",
    "\n",
    "from ase.io import read\n",
    "from tqdm import tqdm\n",
    "from tqdm.notebook import tqdm"
   ]
  },
  {
   "cell_type": "markdown",
   "metadata": {},
   "source": [
    "## Task 1: Analyzing the PES (1.5p)\n",
    "The first task of the project will be to generate and visualize the full PES, $E(x, y)$, on a grid for $(x,y)$.\n",
    "This will give you access to the global minima by visual inspection and will help with understanding, e.g.,  how the optimization algorithms are working or whether they get stuck in the wrong minimum.\n",
    "\n",
    "This task may take a few minute to run as it requires a lot of evaluations of the PES.\n",
    "\n",
    "**Tasks:**\n",
    "* Compute the PES, $E(x, y)$, on a dense grid for $x$ and $y$.\n",
    "* Visualize the 2D PES as a heatmap."
   ]
  },
  {
   "cell_type": "code",
   "execution_count": 4,
   "metadata": {},
   "outputs": [],
   "source": [
    "surface = read('structures/surface_supercell.xyz')"
   ]
  },
  {
   "cell_type": "code",
   "execution_count": 5,
   "metadata": {},
   "outputs": [],
   "source": [
    "def compute_pes(surface, xs, ys):\n",
    "    z = surface.positions[:, 2].max() + 3\n",
    "    E_surface = calculate_energy(surface, (0, 0), False)\n",
    "    energy = np.zeros((len(xs), len(ys)))\n",
    "    for i, x in tqdm(enumerate(xs)):\n",
    "        for j, y in enumerate(ys):\n",
    "            position = (x, y, z)\n",
    "            E = calculate_energy(surface, position, True) - E_surface\n",
    "            energy[i, j] = E\n",
    "    return energy"
   ]
  },
  {
   "cell_type": "code",
   "execution_count": 6,
   "metadata": {},
   "outputs": [],
   "source": [
    "x_min, x_max = 0.01, 16.65653\n",
    "y_min, y_max = 0.001, 2.884996\n",
    "xs = np.linspace(x_min, x_max, 100)\n",
    "ys = np.linspace(y_min, y_max, 100)"
   ]
  },
  {
   "cell_type": "code",
   "execution_count": 7,
   "metadata": {},
   "outputs": [
    {
     "data": {
      "application/vnd.jupyter.widget-view+json": {
       "model_id": "3442b380672b45e887e5af15c91b5cb4",
       "version_major": 2,
       "version_minor": 0
      },
      "text/plain": [
       "0it [00:00, ?it/s]"
      ]
     },
     "metadata": {},
     "output_type": "display_data"
    }
   ],
   "source": [
    "energy = compute_pes(surface, xs, ys)"
   ]
  },
  {
   "cell_type": "code",
   "execution_count": 8,
   "metadata": {},
   "outputs": [
    {
     "data": {
      "text/plain": [
       "<matplotlib.legend.Legend at 0x14b716fd0>"
      ]
     },
     "execution_count": 8,
     "metadata": {},
     "output_type": "execute_result"
    },
    {
     "data": {
      "image/png": "[encoded data removed]",
      "text/plain": [
       "<Figure size 600x400 with 2 Axes>"
      ]
     },
     "metadata": {},
     "output_type": "display_data"
    }
   ],
   "source": [
    "fig, ax = plt.subplots(figsize=(6,4))\n",
    "cs = ax.contourf(xs, ys, energy.T, cmap='magma', alpha=0.6)\n",
    "cbar = fig.colorbar(cs)\n",
    "cbar.ax.set_ylabel(r'E [eV]')\n",
    "ax.set_xlabel(r'$x$ [Å]')\n",
    "ax.set_ylabel(r'$y$ [Å]')\n",
    "plt.tight_layout()\n",
    "\n",
    "min_energy = np.min(energy)\n",
    "min_energy_index = np.argmin(energy)\n",
    "\n",
    "grid_x, grid_y = np.unravel_index(min_energy_index, energy.shape)\n",
    "\n",
    "optimal_x = xs[grid_x]\n",
    "optimal_y = ys[grid_y]\n",
    "\n",
    "ax.scatter(optimal_x, optimal_y, color='blue', marker='*', label='True Minimum')\n",
    "ax.legend(loc='best')"
   ]
  },
  {
   "cell_type": "markdown",
   "metadata": {},
   "source": [
    "## Task 2: Local search (3p)\n",
    "\n",
    "In this task you will try out local search (gradient descent) and see how it succeeds or fails for our function $E(x,y)$.\n",
    "\n",
    "For the local search consider a random starting position uniformly drawn from the $\\{x,y\\}$ domain.\n",
    "\n",
    "**Tasks:**\n",
    "* From visual inspection of the PES in Task 1, can you obtain a rough estimate for the percentage of local searches that would end up in the global minimum.\n",
    "* Run a few (50-500) local searches and record how many ended up in the global minimum.\n",
    "\n",
    "*Hint:* `scipy.optimize.minimize` can be used"
   ]
  },
  {
   "cell_type": "code",
   "execution_count": 9,
   "metadata": {},
   "outputs": [],
   "source": [
    "n_samples = 50\n",
    "\n",
    "x_samples = np.random.uniform(x_min, x_max, n_samples)\n",
    "y_samples = np.random.uniform(y_min, y_max, n_samples)\n",
    "\n",
    "start_pos = np.column_stack((x_samples, y_samples))"
   ]
  },
  {
   "cell_type": "code",
   "execution_count": 10,
   "metadata": {},
   "outputs": [],
   "source": [
    "z = surface.positions[:, 2].max() + 3\n",
    "E_surface = calculate_energy(surface, (0, 0), False)\n",
    "\n",
    "def compute_pes_min(start_pos, surface):\n",
    "    x, y = start_pos[0], start_pos[1]\n",
    "    position = (x, y, z)\n",
    "    return calculate_energy(surface, position, True) - E_surface"
   ]
  },
  {
   "cell_type": "code",
   "execution_count": 11,
   "metadata": {},
   "outputs": [
    {
     "data": {
      "application/vnd.jupyter.widget-view+json": {
       "model_id": "ffa1dea98dbc4216b24bf751e328ba8f",
       "version_major": 2,
       "version_minor": 0
      },
      "text/plain": [
       "0it [00:00, ?it/s]"
      ]
     },
     "metadata": {},
     "output_type": "display_data"
    }
   ],
   "source": [
    "mins = np.zeros_like(start_pos)\n",
    "tol=1e-6\n",
    "\n",
    "for i, sp in tqdm(enumerate(start_pos)):\n",
    "    res = minimize(compute_pes_min, sp, args=(surface), method='L-BFGS-B', tol=tol)\n",
    "    mins[i] = res.x"
   ]
  },
  {
   "cell_type": "code",
   "execution_count": 13,
   "metadata": {},
   "outputs": [
    {
     "name": "stdout",
     "output_type": "stream",
     "text": [
      "Number of samples that reach global minimum: 5\n",
      "10.0 % of the samples that reached the global minimum.\n"
     ]
    }
   ],
   "source": [
    "#print(x_opt)\n",
    "#print(y_opt)\n",
    "#print(np.sqrt(x_opt**2+y_opt**2))\n",
    "#print(mins)\n",
    "distances = np.sqrt(np.sum((mins - np.array([optimal_x, optimal_y]))**2, axis=1))\n",
    "#print(\"Distances:\", distances)\n",
    "\n",
    "count = 0\n",
    "for i, dist in enumerate(distances):\n",
    "    if dist < 0.1:\n",
    "        count += 1\n",
    "\n",
    "print('Number of samples that reach global minimum:', count)\n",
    "print(100*count/n_samples, '% of the samples that reached the global minimum.')"
   ]
  },
  {
   "cell_type": "markdown",
   "metadata": {},
   "source": [
    "## Task 3: Bayesian optimization (8p)\n",
    "Implement your own Bayesian optimization algorithm (using GPy for the Gaussian process part) and run it to find the global minima of $E(x, y)$.\n",
    "\n",
    "Use the [RBF kernel](https://gpy.readthedocs.io/en/deploy/GPy.kern.src.html#module-GPy.kern.src.rbf) and include a Bias kernel if it is needed.\n",
    "\n",
    "Suitable $\\beta$ values might be in the range 1 to 5.\n",
    "\n",
    "Start the Bayesian optimization from five (5) randomly drawn samples.        \n",
    "\n",
    "\n",
    "**Tasks:**\n",
    "* Given the PES in Task 1 choose and motivate priors for the lengthscale and variance parameters in the RBF kernel.\n",
    "* Run Bayesian optimization and analyze how the choice of $\\beta$ influences convergence. Select a good value for $\\beta$.\n",
    "* Rerun bayesian optimization with the selected $\\beta$. How many iterations are needed until the global minimum is reached?\n",
    "* Visualize the PES, the uncertainty ($\\sigma$) and the acquisition function together with your samples for the final model.\n",
    "* In what regions is the final GP model the most uncertain? Why?\n",
    "\n",
    "\n",
    "*Hints:*\n",
    "* If your algorithm gets stuck sampling the same points over and over again, try increasing $\\beta$ (more exploration).         \n",
    "* To find the argmax of $A(x, y)$ you can either evaluate it on a very dense grid or run multiple local searches (starting from random positions) and take the maximum obtained."
   ]
  },
  {
   "cell_type": "code",
   "execution_count": 14,
   "metadata": {},
   "outputs": [],
   "source": [
    "def LCB(mean, var, beta = 4.0):\n",
    "    std_dev = np.sqrt(var)\n",
    "    return -mean + beta * std_dev"
   ]
  },
  {
   "cell_type": "code",
   "execution_count": 15,
   "metadata": {},
   "outputs": [
    {
     "name": "stderr",
     "output_type": "stream",
     "text": [
      "reconstraining parameters rbf.lengthscale\n"
     ]
    },
    {
     "data": {
      "application/vnd.jupyter.widget-view+json": {
       "model_id": "17f5eedfa9004907b343b640392fa5e0",
       "version_major": 2,
       "version_minor": 0
      },
      "text/plain": [
       "  0%|          | 0/100 [00:00<?, ?it/s]"
      ]
     },
     "metadata": {},
     "output_type": "display_data"
    }
   ],
   "source": [
    "\n",
    "x_min, x_max = 0.01, 16.65653\n",
    "y_min, y_max = 0.001, 2.884996\n",
    "x_grid = np.linspace(x_min, x_max, 100)\n",
    "y_grid = np.linspace(y_min, y_max, 100)\n",
    "X_grid, Y_grid = np.meshgrid(x_grid, y_grid)\n",
    "X_grid_flat = X_grid.ravel()\n",
    "Y_grid_flat = Y_grid.ravel()\n",
    "X = np.column_stack((X_grid_flat, Y_grid_flat))\n",
    "\n",
    "sampled_points = []\n",
    "sampled_energy = []\n",
    "\n",
    "# Initialize data.\n",
    "initial_points = 5\n",
    "init_X = np.column_stack((np.random.uniform(x_min, x_max, initial_points), np.random.uniform(y_min, y_max, initial_points)))\n",
    "init_E = np.zeros((initial_points, 1))\n",
    "for i in range(initial_points):\n",
    "    init_E[i] = compute_pes_min(init_X[i,:], surface)\n",
    "\n",
    "# Set up GP model\n",
    "k1 = GPy.kern.RBF(input_dim=2)\n",
    "k1['lengthscale'].constrain_bounded(0.1, 5)\n",
    "k2 = GPy.kern.Bias(input_dim=2)\n",
    "kernel = k1 + k2\n",
    "model = GPy.models.GPRegression(init_X, init_E, kernel)\n",
    "model.optimize()\n",
    "\n",
    "# Bayesian opt.\n",
    "max_iterations = 100\n",
    "for iteration in tqdm(range(max_iterations)):\n",
    "    # Predict over the grid\n",
    "    mean, var = model.predict(X)\n",
    "\n",
    "    # Compute the acquisition function on grid.\n",
    "    acquisition_values = LCB(mean, var)\n",
    "    #print(acquisition_values.shape)\n",
    "\n",
    "    # Select point with maximum acquisition value\n",
    "    new_point_idx = np.argmax(acquisition_values)\n",
    "    new_point = X[new_point_idx, :]\n",
    "\n",
    "    sampled_points.append(new_point)\n",
    "\n",
    "    # Compute E at new point\n",
    "    new_energy = compute_pes_min(new_point, surface)\n",
    "\n",
    "    sampled_energy.append(new_energy)\n",
    "\n",
    "    # Update X,E and retrain model\n",
    "    model.set_XY(np.vstack([model.X, new_point]), np.vstack([model.Y, new_energy]))\n",
    "    model.optimize()\n",
    "\n",
    "sampled_points = np.array(sampled_points)\n",
    "sampled_energies = np.array(sampled_energy)"
   ]
  },
  {
   "cell_type": "code",
   "execution_count": 16,
   "metadata": {},
   "outputs": [
    {
     "data": {
      "image/png": "[encoded data removed]",
      "text/plain": [
       "<Figure size 800x600 with 2 Axes>"
      ]
     },
     "metadata": {},
     "output_type": "display_data"
    },
    {
     "name": "stdout",
     "output_type": "stream",
     "text": [
      "[[1.66565300e+01 1.00000000e-03]\n",
      " [1.66565300e+01 2.88499600e+00]\n",
      " [1.00000000e-02 2.88499600e+00]\n",
      " [1.22847140e+01 1.00000000e-03]\n",
      " [2.36405475e+00 2.88499600e+00]\n",
      " [5.55884333e+00 1.00000000e-03]\n",
      " [1.00000000e-02 1.00000000e-03]\n",
      " [8.75363192e+00 1.00000000e-03]\n",
      " [1.26210076e+01 2.88499600e+00]\n",
      " [2.86849505e+00 1.00000000e-03]\n",
      " [1.48069156e+01 1.00000000e-03]\n",
      " [1.53113559e+01 2.88499600e+00]\n",
      " [1.39661817e+01 1.77800764e+00]\n",
      " [1.00000000e-02 1.02059455e+00]\n",
      " [5.14440303e-01 1.86540145e+00]\n",
      " [1.66565300e+01 9.33200727e-01]\n",
      " [1.66565300e+01 1.83627018e+00]\n",
      " [1.58157962e+01 9.62332000e-01]\n",
      " [9.76251253e+00 1.00000000e-03]\n",
      " [7.91289808e+00 4.37969091e-01]\n",
      " [8.75363192e+00 9.91463273e-01]\n",
      " [9.08992545e+00 1.71974509e+00]\n",
      " [8.24919162e+00 1.54495745e+00]\n",
      " [9.42621899e+00 1.04972582e+00]\n",
      " [3.46293535e-01 5.54494182e-01]\n",
      " [9.08992545e+00 2.50628945e+00]\n",
      " [8.50733838e-01 1.00000000e-03]\n",
      " [9.59436576e+00 2.12758291e+00]\n",
      " [1.85961444e+00 1.19538218e+00]\n",
      " [1.02669528e+01 1.71974509e+00]\n",
      " [1.37980349e+01 2.88499600e+00]\n",
      " [4.88625626e+00 2.56455200e+00]\n",
      " [4.38181596e+00 1.77800764e+00]\n",
      " [5.05440303e+00 1.63235127e+00]\n",
      " [4.04552242e+00 2.30237055e+00]\n",
      " [3.70922889e+00 1.63235127e+00]\n",
      " [4.04552242e+00 9.62332000e-01]\n",
      " [4.21366919e+00 1.75787636e-01]\n",
      " [4.71810949e+00 7.29281818e-01]\n",
      " [3.54108212e+00 7.58413091e-01]\n",
      " [3.20478859e+00 1.07885709e+00]\n",
      " [1.17802737e+01 1.45756364e+00]\n",
      " [3.54108212e+00 1.04972582e+00]\n",
      " [6.56772394e+00 1.13711964e+00]\n",
      " [6.90401747e+00 5.92625455e-02]\n",
      " [6.06328364e+00 2.88499600e+00]\n",
      " [3.70922889e+00 2.63181455e-01]\n",
      " [1.29573011e+01 1.19538218e+00]\n",
      " [1.11076867e+01 5.25362909e-01]\n",
      " [1.36298882e+01 1.00000000e-03]\n",
      " [3.20478859e+00 7.00150545e-01]\n",
      " [2.70034828e+00 7.87544364e-01]\n",
      " [3.37293535e+00 4.96231636e-01]\n",
      " [6.23143040e+00 1.86540145e+00]\n",
      " [3.54108212e+00 2.88499600e+00]\n",
      " [3.20478859e+00 2.33150182e+00]\n",
      " [4.04552242e+00 2.88499600e+00]\n",
      " [6.90401747e+00 1.77800764e+00]\n",
      " [5.89513687e+00 1.22451345e+00]\n",
      " [1.01888061e+00 2.88499600e+00]\n",
      " [1.14439802e+01 2.36063309e+00]\n",
      " [1.44706220e+01 1.10798836e+00]\n",
      " [7.24031101e+00 8.45806909e-01]\n",
      " [5.72699010e+00 2.21497673e+00]\n",
      " [1.32935946e+01 2.15671418e+00]\n",
      " [9.59436576e+00 2.88499600e+00]\n",
      " [3.37293535e+00 7.58413091e-01]\n",
      " [8.41733838e+00 2.88499600e+00]\n",
      " [1.11076867e+01 1.74887636e+00]\n",
      " [1.59839429e+01 1.00000000e-03]\n",
      " [1.58157962e+01 2.04018909e+00]\n",
      " [1.61520897e+01 2.50628945e+00]\n",
      " [1.21165673e+01 2.09845164e+00]\n",
      " [1.11076867e+01 2.88499600e+00]\n",
      " [1.53113559e+01 1.74887636e+00]\n",
      " [6.56772394e+00 5.54494182e-01]\n",
      " [1.36298882e+01 7.58413091e-01]\n",
      " [1.31254479e+01 4.67100364e-01]\n",
      " [1.21165673e+01 8.16675636e-01]\n",
      " [5.14440303e-01 1.07885709e+00]\n",
      " [1.69146768e+00 2.06932036e+00]\n",
      " [6.39957717e+00 2.36063309e+00]\n",
      " [1.69146768e+00 1.00000000e-03]\n",
      " [3.20478859e+00 7.87544364e-01]\n",
      " [8.58548515e+00 5.54494182e-01]\n",
      " [3.37293535e+00 6.71019273e-01]\n",
      " [3.20478859e+00 7.29281818e-01]\n",
      " [3.20478859e+00 7.29281818e-01]\n",
      " [3.20478859e+00 7.29281818e-01]\n",
      " [3.20478859e+00 7.29281818e-01]\n",
      " [3.20478859e+00 7.29281818e-01]\n",
      " [3.20478859e+00 7.29281818e-01]\n",
      " [3.20478859e+00 7.29281818e-01]\n",
      " [3.20478859e+00 7.29281818e-01]\n",
      " [3.20478859e+00 7.29281818e-01]\n",
      " [3.20478859e+00 7.29281818e-01]\n",
      " [3.20478859e+00 7.29281818e-01]\n",
      " [3.20478859e+00 7.29281818e-01]\n",
      " [3.20478859e+00 7.29281818e-01]\n",
      " [3.20478859e+00 7.29281818e-01]]\n"
     ]
    }
   ],
   "source": [
    "fig, ax = plt.subplots(figsize=(8, 6))\n",
    "cp = ax.contourf(xs, ys, energy.T, cmap='magma', alpha=0.6)\n",
    "cbar = fig.colorbar(cp)\n",
    "cbar.ax.set_ylabel('Energy')\n",
    "\n",
    "# Plot sampled points\n",
    "sampled_points = np.array(sampled_points)  # Convert list of points to numpy array if not already\n",
    "ax.scatter(sampled_points[:, 0], sampled_points[:, 1], c='red', label='Sampled Points')\n",
    "\n",
    "# Plot global minimum\n",
    "ax.scatter(sampled_points[-1, 0], sampled_points[-1, 1], c='blue', marker='*', s=100, label='Global Minimum')\n",
    "\n",
    "ax.set_xlabel('x')\n",
    "ax.set_ylabel('y')\n",
    "ax.legend()\n",
    "ax.set_title('Optimization Path and Global Minimum')\n",
    "\n",
    "plt.show()\n",
    "\n",
    "print(sampled_points[:,:])"
   ]
  },
  {
   "cell_type": "markdown",
   "metadata": {},
   "source": [
    "## Task 4: Transition paths barriers (5p)\n",
    "In Bayesian optimization the low energy regions of the parameter space $(x, y)$ are of interest and thus get sampled more by the acquisition function.    \n",
    "Next we look at using GPs as a general purpose potential/model for the full PES.\n",
    "In principle once one has a fast and accurate model over the entire PES we could compute various properties of the ad-atom, such as diffusion barriers and thermodynamic properties.\n",
    "\n",
    "Here you will look at the energy landscape along a linear path between the global minima and the local energy minimum around $(11, 2.1)$.\n",
    "To construct the linear path from the initial state to the final state we can write\n",
    "\\begin{equation}\n",
    "(x, y) = (x_{start}, y_{start}) + \\lambda ( x_{end} -x_{start}, y_{end}-y_{start})\n",
    "\\end{equation}\n",
    "where $\\lambda$ should be varied between $0 \\to 1$ to span the path.\n",
    "\n",
    "In this task you will construct a general purpose GP to model the PES and compute the energy along the transition path described above.\n",
    "This may require 100 to 200 or more training samples.\n",
    "Use $(x_\\text{start}, y_\\text{start})$ and $(x_\\text{end}, y_\\text{end})$ plus a few random samples as a starting point and then iterativley construct a GP model using a suitable acquisition function.\n",
    "\n",
    "**Tasks:**\n",
    "* Train a general purpose GP model.\n",
    "* Compute the error (e.g., [RMSE](https://en.wikipedia.org/wiki/Root-mean-square_deviation)) of the model evaluated over the entire PES using data from Task 1 as a function of training samples. How many samples are needed to get a \"good\" model in your opinion?\n",
    "* Use the GP model to compute the energy and its uncertainty along the linear path between the initial and final state. Compare with the GP model obtained in Task 3, and compare with the correct energy along the path computed with EMT. Discuss your findings.\n",
    "\n",
    "\n",
    "*Hint:* To train a general purpose model one can use the LCB acquisition function and let $\\beta \\to \\infty$."
   ]
  }
 ],
 "metadata": {
  "kernelspec": {
   "display_name": "Python 3 (ipykernel)",
   "language": "python",
   "name": "python3"
  },
  "language_info": {
   "codemirror_mode": {
    "name": "ipython",
    "version": 3
   },
   "file_extension": ".py",
   "mimetype": "text/x-python",
   "name": "python",
   "nbconvert_exporter": "python",
   "pygments_lexer": "ipython3",
   "version": "3.9.18"
  }
 },
 "nbformat": 4,
 "nbformat_minor": 4
}
